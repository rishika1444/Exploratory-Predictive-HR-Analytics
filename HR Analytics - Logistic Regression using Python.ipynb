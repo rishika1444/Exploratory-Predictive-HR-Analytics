{
 "cells": [
  {
   "cell_type": "markdown",
   "metadata": {},
   "source": [
    "### HR - Attrition Analytics -  Exploratory Analysis & Predictive Modeling\n",
    "> Human Resources are critical resources of any organiazation. Organizations spend huge amount of time and money to hire <br>\n",
    "> and nuture their employees. It is a huge loss for companies if employees leave, especially the key resources.  <br>\n",
    "> So if HR can predict weather employees are at risk for leaving the company, it will allow them to identify the attrition  <br>\n",
    "> risks and help understand and provie necessary support to retain those employees or do preventive hiring to minimize the  <br>\n",
    "> impact to the orgranization."
   ]
  },
  {
   "cell_type": "markdown",
   "metadata": {},
   "source": [
    "### DATA ATTRIBUTES\n",
    "\n",
    "satisfaction_level: Employee satisfaction level <br>\n",
    "last_evaluation: Last evaluation  <br>\n",
    "number_project: Number of projects  <br>\n",
    "average_montly_hours: Average monthly hours <br>\n",
    "time_spend_company: Time spent at the company <br>\n",
    "Work_accident: Whether they have had a work accident <br>\n",
    "promotion_last_5years: Whether they have had a promotion in the last 5 years <br>\n",
    "department: Department <br>\n",
    "salary: Salary <br>\n",
    "left: Whether the employee has left <br>"
   ]
  },
  {
   "cell_type": "code",
   "execution_count": 1,
   "metadata": {},
   "outputs": [],
   "source": [
    "import pandas as pd\n",
    "import numpy as np"
   ]
  },
  {
   "cell_type": "code",
   "execution_count": 2,
   "metadata": {},
   "outputs": [],
   "source": [
    "# Load the data\n",
    "hr_df = pd.read_csv('HR_comma_sep.csv' )"
   ]
  },
  {
   "cell_type": "code",
   "execution_count": 3,
   "metadata": {},
   "outputs": [
    {
     "data": {
      "text/plain": [
       "Index(['satisfaction_level', 'last_evaluation', 'number_project',\n",
       "       'average_montly_hours', 'time_spend_company', 'Work_accident', 'left',\n",
       "       'promotion_last_5years', 'department', 'salary'],\n",
       "      dtype='object')"
      ]
     },
     "execution_count": 3,
     "metadata": {},
     "output_type": "execute_result"
    }
   ],
   "source": [
    "hr_df.columns"
   ]
  },
  {
   "cell_type": "code",
   "execution_count": 7,
   "metadata": {},
   "outputs": [
    {
     "data": {
      "text/html": [
       "<div>\n",
       "<style scoped>\n",
       "    .dataframe tbody tr th:only-of-type {\n",
       "        vertical-align: middle;\n",
       "    }\n",
       "\n",
       "    .dataframe tbody tr th {\n",
       "        vertical-align: top;\n",
       "    }\n",
       "\n",
       "    .dataframe thead th {\n",
       "        text-align: right;\n",
       "    }\n",
       "</style>\n",
       "<table border=\"1\" class=\"dataframe\">\n",
       "  <thead>\n",
       "    <tr style=\"text-align: right;\">\n",
       "      <th></th>\n",
       "      <th>satisfaction_level</th>\n",
       "      <th>last_evaluation</th>\n",
       "      <th>number_project</th>\n",
       "      <th>average_montly_hours</th>\n",
       "      <th>time_spend_company</th>\n",
       "      <th>Work_accident</th>\n",
       "      <th>left</th>\n",
       "      <th>promotion_last_5years</th>\n",
       "      <th>department</th>\n",
       "      <th>salary</th>\n",
       "    </tr>\n",
       "  </thead>\n",
       "  <tbody>\n",
       "    <tr>\n",
       "      <th>0</th>\n",
       "      <td>0.38</td>\n",
       "      <td>0.53</td>\n",
       "      <td>2</td>\n",
       "      <td>157</td>\n",
       "      <td>3</td>\n",
       "      <td>0</td>\n",
       "      <td>1</td>\n",
       "      <td>0</td>\n",
       "      <td>sales</td>\n",
       "      <td>low</td>\n",
       "    </tr>\n",
       "    <tr>\n",
       "      <th>1</th>\n",
       "      <td>0.80</td>\n",
       "      <td>0.86</td>\n",
       "      <td>5</td>\n",
       "      <td>262</td>\n",
       "      <td>6</td>\n",
       "      <td>0</td>\n",
       "      <td>1</td>\n",
       "      <td>0</td>\n",
       "      <td>sales</td>\n",
       "      <td>medium</td>\n",
       "    </tr>\n",
       "    <tr>\n",
       "      <th>2</th>\n",
       "      <td>0.11</td>\n",
       "      <td>0.88</td>\n",
       "      <td>7</td>\n",
       "      <td>272</td>\n",
       "      <td>4</td>\n",
       "      <td>0</td>\n",
       "      <td>1</td>\n",
       "      <td>0</td>\n",
       "      <td>sales</td>\n",
       "      <td>medium</td>\n",
       "    </tr>\n",
       "    <tr>\n",
       "      <th>3</th>\n",
       "      <td>0.72</td>\n",
       "      <td>0.87</td>\n",
       "      <td>5</td>\n",
       "      <td>223</td>\n",
       "      <td>5</td>\n",
       "      <td>0</td>\n",
       "      <td>1</td>\n",
       "      <td>0</td>\n",
       "      <td>sales</td>\n",
       "      <td>low</td>\n",
       "    </tr>\n",
       "    <tr>\n",
       "      <th>4</th>\n",
       "      <td>0.37</td>\n",
       "      <td>0.52</td>\n",
       "      <td>2</td>\n",
       "      <td>159</td>\n",
       "      <td>3</td>\n",
       "      <td>0</td>\n",
       "      <td>1</td>\n",
       "      <td>0</td>\n",
       "      <td>sales</td>\n",
       "      <td>low</td>\n",
       "    </tr>\n",
       "    <tr>\n",
       "      <th>5</th>\n",
       "      <td>0.41</td>\n",
       "      <td>0.50</td>\n",
       "      <td>2</td>\n",
       "      <td>153</td>\n",
       "      <td>3</td>\n",
       "      <td>0</td>\n",
       "      <td>1</td>\n",
       "      <td>0</td>\n",
       "      <td>sales</td>\n",
       "      <td>low</td>\n",
       "    </tr>\n",
       "    <tr>\n",
       "      <th>6</th>\n",
       "      <td>0.10</td>\n",
       "      <td>0.77</td>\n",
       "      <td>6</td>\n",
       "      <td>247</td>\n",
       "      <td>4</td>\n",
       "      <td>0</td>\n",
       "      <td>1</td>\n",
       "      <td>0</td>\n",
       "      <td>sales</td>\n",
       "      <td>low</td>\n",
       "    </tr>\n",
       "    <tr>\n",
       "      <th>7</th>\n",
       "      <td>0.92</td>\n",
       "      <td>0.85</td>\n",
       "      <td>5</td>\n",
       "      <td>259</td>\n",
       "      <td>5</td>\n",
       "      <td>0</td>\n",
       "      <td>1</td>\n",
       "      <td>0</td>\n",
       "      <td>sales</td>\n",
       "      <td>low</td>\n",
       "    </tr>\n",
       "    <tr>\n",
       "      <th>8</th>\n",
       "      <td>0.89</td>\n",
       "      <td>1.00</td>\n",
       "      <td>5</td>\n",
       "      <td>224</td>\n",
       "      <td>5</td>\n",
       "      <td>0</td>\n",
       "      <td>1</td>\n",
       "      <td>0</td>\n",
       "      <td>sales</td>\n",
       "      <td>low</td>\n",
       "    </tr>\n",
       "    <tr>\n",
       "      <th>9</th>\n",
       "      <td>0.42</td>\n",
       "      <td>0.53</td>\n",
       "      <td>2</td>\n",
       "      <td>142</td>\n",
       "      <td>3</td>\n",
       "      <td>0</td>\n",
       "      <td>1</td>\n",
       "      <td>0</td>\n",
       "      <td>sales</td>\n",
       "      <td>low</td>\n",
       "    </tr>\n",
       "    <tr>\n",
       "      <th>10</th>\n",
       "      <td>0.45</td>\n",
       "      <td>0.54</td>\n",
       "      <td>2</td>\n",
       "      <td>135</td>\n",
       "      <td>3</td>\n",
       "      <td>0</td>\n",
       "      <td>1</td>\n",
       "      <td>0</td>\n",
       "      <td>sales</td>\n",
       "      <td>low</td>\n",
       "    </tr>\n",
       "    <tr>\n",
       "      <th>11</th>\n",
       "      <td>0.11</td>\n",
       "      <td>0.81</td>\n",
       "      <td>6</td>\n",
       "      <td>305</td>\n",
       "      <td>4</td>\n",
       "      <td>0</td>\n",
       "      <td>1</td>\n",
       "      <td>0</td>\n",
       "      <td>sales</td>\n",
       "      <td>low</td>\n",
       "    </tr>\n",
       "    <tr>\n",
       "      <th>12</th>\n",
       "      <td>0.84</td>\n",
       "      <td>0.92</td>\n",
       "      <td>4</td>\n",
       "      <td>234</td>\n",
       "      <td>5</td>\n",
       "      <td>0</td>\n",
       "      <td>1</td>\n",
       "      <td>0</td>\n",
       "      <td>sales</td>\n",
       "      <td>low</td>\n",
       "    </tr>\n",
       "    <tr>\n",
       "      <th>13</th>\n",
       "      <td>0.41</td>\n",
       "      <td>0.55</td>\n",
       "      <td>2</td>\n",
       "      <td>148</td>\n",
       "      <td>3</td>\n",
       "      <td>0</td>\n",
       "      <td>1</td>\n",
       "      <td>0</td>\n",
       "      <td>sales</td>\n",
       "      <td>low</td>\n",
       "    </tr>\n",
       "    <tr>\n",
       "      <th>14</th>\n",
       "      <td>0.36</td>\n",
       "      <td>0.56</td>\n",
       "      <td>2</td>\n",
       "      <td>137</td>\n",
       "      <td>3</td>\n",
       "      <td>0</td>\n",
       "      <td>1</td>\n",
       "      <td>0</td>\n",
       "      <td>sales</td>\n",
       "      <td>low</td>\n",
       "    </tr>\n",
       "    <tr>\n",
       "      <th>15</th>\n",
       "      <td>0.38</td>\n",
       "      <td>0.54</td>\n",
       "      <td>2</td>\n",
       "      <td>143</td>\n",
       "      <td>3</td>\n",
       "      <td>0</td>\n",
       "      <td>1</td>\n",
       "      <td>0</td>\n",
       "      <td>sales</td>\n",
       "      <td>low</td>\n",
       "    </tr>\n",
       "    <tr>\n",
       "      <th>16</th>\n",
       "      <td>0.45</td>\n",
       "      <td>0.47</td>\n",
       "      <td>2</td>\n",
       "      <td>160</td>\n",
       "      <td>3</td>\n",
       "      <td>0</td>\n",
       "      <td>1</td>\n",
       "      <td>0</td>\n",
       "      <td>sales</td>\n",
       "      <td>low</td>\n",
       "    </tr>\n",
       "    <tr>\n",
       "      <th>17</th>\n",
       "      <td>0.78</td>\n",
       "      <td>0.99</td>\n",
       "      <td>4</td>\n",
       "      <td>255</td>\n",
       "      <td>6</td>\n",
       "      <td>0</td>\n",
       "      <td>1</td>\n",
       "      <td>0</td>\n",
       "      <td>sales</td>\n",
       "      <td>low</td>\n",
       "    </tr>\n",
       "    <tr>\n",
       "      <th>18</th>\n",
       "      <td>0.45</td>\n",
       "      <td>0.51</td>\n",
       "      <td>2</td>\n",
       "      <td>160</td>\n",
       "      <td>3</td>\n",
       "      <td>1</td>\n",
       "      <td>1</td>\n",
       "      <td>1</td>\n",
       "      <td>sales</td>\n",
       "      <td>low</td>\n",
       "    </tr>\n",
       "    <tr>\n",
       "      <th>19</th>\n",
       "      <td>0.76</td>\n",
       "      <td>0.89</td>\n",
       "      <td>5</td>\n",
       "      <td>262</td>\n",
       "      <td>5</td>\n",
       "      <td>0</td>\n",
       "      <td>1</td>\n",
       "      <td>0</td>\n",
       "      <td>sales</td>\n",
       "      <td>low</td>\n",
       "    </tr>\n",
       "  </tbody>\n",
       "</table>\n",
       "</div>"
      ],
      "text/plain": [
       "    satisfaction_level  last_evaluation  number_project  average_montly_hours  \\\n",
       "0                 0.38             0.53               2                   157   \n",
       "1                 0.80             0.86               5                   262   \n",
       "2                 0.11             0.88               7                   272   \n",
       "3                 0.72             0.87               5                   223   \n",
       "4                 0.37             0.52               2                   159   \n",
       "5                 0.41             0.50               2                   153   \n",
       "6                 0.10             0.77               6                   247   \n",
       "7                 0.92             0.85               5                   259   \n",
       "8                 0.89             1.00               5                   224   \n",
       "9                 0.42             0.53               2                   142   \n",
       "10                0.45             0.54               2                   135   \n",
       "11                0.11             0.81               6                   305   \n",
       "12                0.84             0.92               4                   234   \n",
       "13                0.41             0.55               2                   148   \n",
       "14                0.36             0.56               2                   137   \n",
       "15                0.38             0.54               2                   143   \n",
       "16                0.45             0.47               2                   160   \n",
       "17                0.78             0.99               4                   255   \n",
       "18                0.45             0.51               2                   160   \n",
       "19                0.76             0.89               5                   262   \n",
       "\n",
       "    time_spend_company  Work_accident  left  promotion_last_5years department  \\\n",
       "0                    3              0     1                      0      sales   \n",
       "1                    6              0     1                      0      sales   \n",
       "2                    4              0     1                      0      sales   \n",
       "3                    5              0     1                      0      sales   \n",
       "4                    3              0     1                      0      sales   \n",
       "5                    3              0     1                      0      sales   \n",
       "6                    4              0     1                      0      sales   \n",
       "7                    5              0     1                      0      sales   \n",
       "8                    5              0     1                      0      sales   \n",
       "9                    3              0     1                      0      sales   \n",
       "10                   3              0     1                      0      sales   \n",
       "11                   4              0     1                      0      sales   \n",
       "12                   5              0     1                      0      sales   \n",
       "13                   3              0     1                      0      sales   \n",
       "14                   3              0     1                      0      sales   \n",
       "15                   3              0     1                      0      sales   \n",
       "16                   3              0     1                      0      sales   \n",
       "17                   6              0     1                      0      sales   \n",
       "18                   3              1     1                      1      sales   \n",
       "19                   5              0     1                      0      sales   \n",
       "\n",
       "    salary  \n",
       "0      low  \n",
       "1   medium  \n",
       "2   medium  \n",
       "3      low  \n",
       "4      low  \n",
       "5      low  \n",
       "6      low  \n",
       "7      low  \n",
       "8      low  \n",
       "9      low  \n",
       "10     low  \n",
       "11     low  \n",
       "12     low  \n",
       "13     low  \n",
       "14     low  \n",
       "15     low  \n",
       "16     low  \n",
       "17     low  \n",
       "18     low  \n",
       "19     low  "
      ]
     },
     "execution_count": 7,
     "metadata": {},
     "output_type": "execute_result"
    }
   ],
   "source": [
    "hr_df.head(10)"
   ]
  },
  {
   "cell_type": "code",
   "execution_count": null,
   "metadata": {},
   "outputs": [],
   "source": [
    "hr_df.info()"
   ]
  },
  {
   "cell_type": "code",
   "execution_count": 5,
   "metadata": {},
   "outputs": [
    {
     "data": {
      "text/plain": [
       "0"
      ]
     },
     "execution_count": 5,
     "metadata": {},
     "output_type": "execute_result"
    }
   ],
   "source": [
    "#missings\n",
    "hr_df.isnull().any().sum()"
   ]
  },
  {
   "cell_type": "code",
   "execution_count": 8,
   "metadata": {},
   "outputs": [
    {
     "data": {
      "text/html": [
       "<div>\n",
       "<style scoped>\n",
       "    .dataframe tbody tr th:only-of-type {\n",
       "        vertical-align: middle;\n",
       "    }\n",
       "\n",
       "    .dataframe tbody tr th {\n",
       "        vertical-align: top;\n",
       "    }\n",
       "\n",
       "    .dataframe thead th {\n",
       "        text-align: right;\n",
       "    }\n",
       "</style>\n",
       "<table border=\"1\" class=\"dataframe\">\n",
       "  <thead>\n",
       "    <tr style=\"text-align: right;\">\n",
       "      <th></th>\n",
       "      <th>count</th>\n",
       "      <th>mean</th>\n",
       "      <th>std</th>\n",
       "      <th>min</th>\n",
       "      <th>25%</th>\n",
       "      <th>50%</th>\n",
       "      <th>75%</th>\n",
       "      <th>max</th>\n",
       "    </tr>\n",
       "  </thead>\n",
       "  <tbody>\n",
       "    <tr>\n",
       "      <th>satisfaction_level</th>\n",
       "      <td>14999.0</td>\n",
       "      <td>0.612834</td>\n",
       "      <td>0.248631</td>\n",
       "      <td>0.09</td>\n",
       "      <td>0.44</td>\n",
       "      <td>0.64</td>\n",
       "      <td>0.82</td>\n",
       "      <td>1.0</td>\n",
       "    </tr>\n",
       "    <tr>\n",
       "      <th>last_evaluation</th>\n",
       "      <td>14999.0</td>\n",
       "      <td>0.716102</td>\n",
       "      <td>0.171169</td>\n",
       "      <td>0.36</td>\n",
       "      <td>0.56</td>\n",
       "      <td>0.72</td>\n",
       "      <td>0.87</td>\n",
       "      <td>1.0</td>\n",
       "    </tr>\n",
       "    <tr>\n",
       "      <th>number_project</th>\n",
       "      <td>14999.0</td>\n",
       "      <td>3.803054</td>\n",
       "      <td>1.232592</td>\n",
       "      <td>2.00</td>\n",
       "      <td>3.00</td>\n",
       "      <td>4.00</td>\n",
       "      <td>5.00</td>\n",
       "      <td>7.0</td>\n",
       "    </tr>\n",
       "    <tr>\n",
       "      <th>average_montly_hours</th>\n",
       "      <td>14999.0</td>\n",
       "      <td>201.050337</td>\n",
       "      <td>49.943099</td>\n",
       "      <td>96.00</td>\n",
       "      <td>156.00</td>\n",
       "      <td>200.00</td>\n",
       "      <td>245.00</td>\n",
       "      <td>310.0</td>\n",
       "    </tr>\n",
       "    <tr>\n",
       "      <th>time_spend_company</th>\n",
       "      <td>14999.0</td>\n",
       "      <td>3.498233</td>\n",
       "      <td>1.460136</td>\n",
       "      <td>2.00</td>\n",
       "      <td>3.00</td>\n",
       "      <td>3.00</td>\n",
       "      <td>4.00</td>\n",
       "      <td>10.0</td>\n",
       "    </tr>\n",
       "    <tr>\n",
       "      <th>Work_accident</th>\n",
       "      <td>14999.0</td>\n",
       "      <td>0.144610</td>\n",
       "      <td>0.351719</td>\n",
       "      <td>0.00</td>\n",
       "      <td>0.00</td>\n",
       "      <td>0.00</td>\n",
       "      <td>0.00</td>\n",
       "      <td>1.0</td>\n",
       "    </tr>\n",
       "    <tr>\n",
       "      <th>left</th>\n",
       "      <td>14999.0</td>\n",
       "      <td>0.238083</td>\n",
       "      <td>0.425924</td>\n",
       "      <td>0.00</td>\n",
       "      <td>0.00</td>\n",
       "      <td>0.00</td>\n",
       "      <td>0.00</td>\n",
       "      <td>1.0</td>\n",
       "    </tr>\n",
       "    <tr>\n",
       "      <th>promotion_last_5years</th>\n",
       "      <td>14999.0</td>\n",
       "      <td>0.021268</td>\n",
       "      <td>0.144281</td>\n",
       "      <td>0.00</td>\n",
       "      <td>0.00</td>\n",
       "      <td>0.00</td>\n",
       "      <td>0.00</td>\n",
       "      <td>1.0</td>\n",
       "    </tr>\n",
       "  </tbody>\n",
       "</table>\n",
       "</div>"
      ],
      "text/plain": [
       "                         count        mean        std    min     25%     50%  \\\n",
       "satisfaction_level     14999.0    0.612834   0.248631   0.09    0.44    0.64   \n",
       "last_evaluation        14999.0    0.716102   0.171169   0.36    0.56    0.72   \n",
       "number_project         14999.0    3.803054   1.232592   2.00    3.00    4.00   \n",
       "average_montly_hours   14999.0  201.050337  49.943099  96.00  156.00  200.00   \n",
       "time_spend_company     14999.0    3.498233   1.460136   2.00    3.00    3.00   \n",
       "Work_accident          14999.0    0.144610   0.351719   0.00    0.00    0.00   \n",
       "left                   14999.0    0.238083   0.425924   0.00    0.00    0.00   \n",
       "promotion_last_5years  14999.0    0.021268   0.144281   0.00    0.00    0.00   \n",
       "\n",
       "                          75%    max  \n",
       "satisfaction_level       0.82    1.0  \n",
       "last_evaluation          0.87    1.0  \n",
       "number_project           5.00    7.0  \n",
       "average_montly_hours   245.00  310.0  \n",
       "time_spend_company       4.00   10.0  \n",
       "Work_accident            0.00    1.0  \n",
       "left                     0.00    1.0  \n",
       "promotion_last_5years    0.00    1.0  "
      ]
     },
     "execution_count": 8,
     "metadata": {},
     "output_type": "execute_result"
    }
   ],
   "source": [
    "hr_df.describe().T"
   ]
  },
  {
   "cell_type": "markdown",
   "metadata": {},
   "source": [
    "The summary statistics for Work_accident, left and promotion_last_5years does not make sense, as they are categorical variables"
   ]
  },
  {
   "cell_type": "markdown",
   "metadata": {},
   "source": [
    "### EXPLORATORY ANALYSIS"
   ]
  },
  {
   "cell_type": "code",
   "execution_count": 9,
   "metadata": {},
   "outputs": [
    {
     "data": {
      "text/html": [
       "<div>\n",
       "<style scoped>\n",
       "    .dataframe tbody tr th:only-of-type {\n",
       "        vertical-align: middle;\n",
       "    }\n",
       "\n",
       "    .dataframe tbody tr th {\n",
       "        vertical-align: top;\n",
       "    }\n",
       "\n",
       "    .dataframe thead th {\n",
       "        text-align: right;\n",
       "    }\n",
       "</style>\n",
       "<table border=\"1\" class=\"dataframe\">\n",
       "  <thead>\n",
       "    <tr style=\"text-align: right;\">\n",
       "      <th></th>\n",
       "      <th>left</th>\n",
       "    </tr>\n",
       "  </thead>\n",
       "  <tbody>\n",
       "    <tr>\n",
       "      <th>0</th>\n",
       "      <td>11428</td>\n",
       "    </tr>\n",
       "    <tr>\n",
       "      <th>1</th>\n",
       "      <td>3571</td>\n",
       "    </tr>\n",
       "  </tbody>\n",
       "</table>\n",
       "</div>"
      ],
      "text/plain": [
       "    left\n",
       "0  11428\n",
       "1   3571"
      ]
     },
     "execution_count": 9,
     "metadata": {},
     "output_type": "execute_result"
    }
   ],
   "source": [
    "# 0. How many records of people leaving the company exist in the dataset?\n",
    "hr_left_df = pd.DataFrame( hr_df.left.value_counts() )\n",
    "hr_left_df"
   ]
  },
  {
   "cell_type": "code",
   "execution_count": 8,
   "metadata": {},
   "outputs": [],
   "source": [
    "#1. What is the percentage of churn by salary bucket"
   ]
  },
  {
   "cell_type": "code",
   "execution_count": 10,
   "metadata": {},
   "outputs": [],
   "source": [
    "salary_count = hr_df[['salary', 'left']].groupby(['salary', 'left']).size().reset_index()\n",
    "salary_count.columns = ['salary', 'left', 'count']"
   ]
  },
  {
   "cell_type": "code",
   "execution_count": 11,
   "metadata": {},
   "outputs": [
    {
     "data": {
      "text/html": [
       "<div>\n",
       "<style scoped>\n",
       "    .dataframe tbody tr th:only-of-type {\n",
       "        vertical-align: middle;\n",
       "    }\n",
       "\n",
       "    .dataframe tbody tr th {\n",
       "        vertical-align: top;\n",
       "    }\n",
       "\n",
       "    .dataframe thead th {\n",
       "        text-align: right;\n",
       "    }\n",
       "</style>\n",
       "<table border=\"1\" class=\"dataframe\">\n",
       "  <thead>\n",
       "    <tr style=\"text-align: right;\">\n",
       "      <th></th>\n",
       "      <th>salary</th>\n",
       "      <th>left</th>\n",
       "      <th>count</th>\n",
       "    </tr>\n",
       "  </thead>\n",
       "  <tbody>\n",
       "    <tr>\n",
       "      <th>0</th>\n",
       "      <td>high</td>\n",
       "      <td>0</td>\n",
       "      <td>1155</td>\n",
       "    </tr>\n",
       "    <tr>\n",
       "      <th>1</th>\n",
       "      <td>high</td>\n",
       "      <td>1</td>\n",
       "      <td>82</td>\n",
       "    </tr>\n",
       "    <tr>\n",
       "      <th>2</th>\n",
       "      <td>low</td>\n",
       "      <td>0</td>\n",
       "      <td>5144</td>\n",
       "    </tr>\n",
       "    <tr>\n",
       "      <th>3</th>\n",
       "      <td>low</td>\n",
       "      <td>1</td>\n",
       "      <td>2172</td>\n",
       "    </tr>\n",
       "    <tr>\n",
       "      <th>4</th>\n",
       "      <td>medium</td>\n",
       "      <td>0</td>\n",
       "      <td>5129</td>\n",
       "    </tr>\n",
       "    <tr>\n",
       "      <th>5</th>\n",
       "      <td>medium</td>\n",
       "      <td>1</td>\n",
       "      <td>1317</td>\n",
       "    </tr>\n",
       "  </tbody>\n",
       "</table>\n",
       "</div>"
      ],
      "text/plain": [
       "   salary  left  count\n",
       "0    high     0   1155\n",
       "1    high     1     82\n",
       "2     low     0   5144\n",
       "3     low     1   2172\n",
       "4  medium     0   5129\n",
       "5  medium     1   1317"
      ]
     },
     "execution_count": 11,
     "metadata": {},
     "output_type": "execute_result"
    }
   ],
   "source": [
    "salary_count"
   ]
  },
  {
   "cell_type": "code",
   "execution_count": 6,
   "metadata": {},
   "outputs": [],
   "source": [
    "salary_count = hr_df[['salary', 'left']].groupby(['salary', 'left']).size()\n",
    "salary_percent = salary_count.groupby(level=[0]).apply(lambda x: x / x.sum()).reset_index()"
   ]
  },
  {
   "cell_type": "code",
   "execution_count": 7,
   "metadata": {},
   "outputs": [
    {
     "data": {
      "text/html": [
       "<div>\n",
       "<style scoped>\n",
       "    .dataframe tbody tr th:only-of-type {\n",
       "        vertical-align: middle;\n",
       "    }\n",
       "\n",
       "    .dataframe tbody tr th {\n",
       "        vertical-align: top;\n",
       "    }\n",
       "\n",
       "    .dataframe thead th {\n",
       "        text-align: right;\n",
       "    }\n",
       "</style>\n",
       "<table border=\"1\" class=\"dataframe\">\n",
       "  <thead>\n",
       "    <tr style=\"text-align: right;\">\n",
       "      <th></th>\n",
       "      <th>salary</th>\n",
       "      <th>left</th>\n",
       "      <th>0</th>\n",
       "    </tr>\n",
       "  </thead>\n",
       "  <tbody>\n",
       "    <tr>\n",
       "      <th>0</th>\n",
       "      <td>high</td>\n",
       "      <td>0</td>\n",
       "      <td>0.933711</td>\n",
       "    </tr>\n",
       "    <tr>\n",
       "      <th>1</th>\n",
       "      <td>high</td>\n",
       "      <td>1</td>\n",
       "      <td>0.066289</td>\n",
       "    </tr>\n",
       "    <tr>\n",
       "      <th>2</th>\n",
       "      <td>low</td>\n",
       "      <td>0</td>\n",
       "      <td>0.703116</td>\n",
       "    </tr>\n",
       "    <tr>\n",
       "      <th>3</th>\n",
       "      <td>low</td>\n",
       "      <td>1</td>\n",
       "      <td>0.296884</td>\n",
       "    </tr>\n",
       "    <tr>\n",
       "      <th>4</th>\n",
       "      <td>medium</td>\n",
       "      <td>0</td>\n",
       "      <td>0.795687</td>\n",
       "    </tr>\n",
       "    <tr>\n",
       "      <th>5</th>\n",
       "      <td>medium</td>\n",
       "      <td>1</td>\n",
       "      <td>0.204313</td>\n",
       "    </tr>\n",
       "  </tbody>\n",
       "</table>\n",
       "</div>"
      ],
      "text/plain": [
       "   salary  left         0\n",
       "0    high     0  0.933711\n",
       "1    high     1  0.066289\n",
       "2     low     0  0.703116\n",
       "3     low     1  0.296884\n",
       "4  medium     0  0.795687\n",
       "5  medium     1  0.204313"
      ]
     },
     "execution_count": 7,
     "metadata": {},
     "output_type": "execute_result"
    }
   ],
   "source": [
    "salary_percent"
   ]
  },
  {
   "cell_type": "code",
   "execution_count": 12,
   "metadata": {},
   "outputs": [],
   "source": [
    "import matplotlib as plt\n",
    "import seaborn as sn\n",
    "%matplotlib inline"
   ]
  },
  {
   "cell_type": "code",
   "execution_count": 13,
   "metadata": {},
   "outputs": [
    {
     "data": {
      "text/plain": [
       "<matplotlib.axes._subplots.AxesSubplot at 0x1a189047b8>"
      ]
     },
     "execution_count": 13,
     "metadata": {},
     "output_type": "execute_result"
    },
    {
     "data": {
      "image/png": "[encoded data removed]",
      "text/plain": [
       "<Figure size 432x288 with 1 Axes>"
      ]
     },
     "metadata": {},
     "output_type": "display_data"
    }
   ],
   "source": [
    "sn.barplot( hr_left_df.index, hr_left_df.left )"
   ]
  },
  {
   "cell_type": "code",
   "execution_count": 14,
   "metadata": {},
   "outputs": [
    {
     "data": {
      "text/plain": [
       "<seaborn.axisgrid.FacetGrid at 0x1a23eb3278>"
      ]
     },
     "execution_count": 14,
     "metadata": {},
     "output_type": "execute_result"
    },
    {
     "data": {
      "image/png": "[encoded data removed]",
      "text/plain": [
       "<Figure size 330.375x288 with 1 Axes>"
      ]
     },
     "metadata": {},
     "output_type": "display_data"
    }
   ],
   "source": [
    "# 2. How many people, who had work accidents, actually left the company?\n",
    "work_accident_count = hr_df[['Work_accident', 'left']].groupby(['Work_accident', 'left']).size().reset_index()\n",
    "work_accident_count.columns = ['Work_accident', 'left', 'count']\n",
    "\n",
    "sn.factorplot(x=\"Work_accident\", y = 'count', hue=\"left\", data=work_accident_count,\n",
    "               size=4, kind=\"bar\", palette=\"muted\")\n"
   ]
  },
  {
   "cell_type": "code",
   "execution_count": 15,
   "metadata": {},
   "outputs": [],
   "source": [
    "work_accident_count = hr_df[['Work_accident', 'left']].groupby(['Work_accident', 'left']).size()\n",
    "work_accident_percent = work_accident_count.groupby(level=[0]).apply(lambda x: x / x.sum()).reset_index()"
   ]
  },
  {
   "cell_type": "code",
   "execution_count": 16,
   "metadata": {},
   "outputs": [],
   "source": [
    "work_accident_percent.columns = ['Work_accident', 'left', 'percent']"
   ]
  },
  {
   "cell_type": "code",
   "execution_count": 17,
   "metadata": {},
   "outputs": [
    {
     "data": {
      "text/plain": [
       "<seaborn.axisgrid.FacetGrid at 0x1a1824b668>"
      ]
     },
     "execution_count": 17,
     "metadata": {},
     "output_type": "execute_result"
    },
    {
     "data": {
      "image/png": "[encoded data removed]",
      "text/plain": [
       "<Figure size 330.375x288 with 1 Axes>"
      ]
     },
     "metadata": {},
     "output_type": "display_data"
    }
   ],
   "source": [
    "sn.factorplot(x=\"Work_accident\", y = 'percent', hue=\"left\", data=work_accident_percent,\n",
    "               size=4, kind=\"bar\", palette=\"muted\")"
   ]
  },
  {
   "cell_type": "code",
   "execution_count": 18,
   "metadata": {},
   "outputs": [
    {
     "name": "stderr",
     "output_type": "stream",
     "text": [
      "/Users/sb/anaconda3/lib/python3.6/site-packages/matplotlib/axes/_axes.py:6462: UserWarning: The 'normed' kwarg is deprecated, and has been replaced by the 'density' kwarg.\n",
      "  warnings.warn(\"The 'normed' kwarg is deprecated, and has been \"\n",
      "/Users/sb/anaconda3/lib/python3.6/site-packages/matplotlib/axes/_axes.py:6462: UserWarning: The 'normed' kwarg is deprecated, and has been replaced by the 'density' kwarg.\n",
      "  warnings.warn(\"The 'normed' kwarg is deprecated, and has been \"\n"
     ]
    },
    {
     "data": {
      "text/plain": [
       "<matplotlib.axes._subplots.AxesSubplot at 0x1a241cc320>"
      ]
     },
     "execution_count": 18,
     "metadata": {},
     "output_type": "execute_result"
    },
    {
     "data": {
      "image/png": "[encoded data removed]",
      "text/plain": [
       "<Figure size 432x288 with 1 Axes>"
      ]
     },
     "metadata": {},
     "output_type": "display_data"
    }
   ],
   "source": [
    "#3. How work accidents have impacted the statisfactin level of the empolyees?\n",
    "sn.distplot( hr_df[hr_df.Work_accident == 1]['satisfaction_level'], color = 'r')\n",
    "sn.distplot( hr_df[hr_df.Work_accident == 0]['satisfaction_level'], color = 'g')"
   ]
  },
  {
   "cell_type": "code",
   "execution_count": 16,
   "metadata": {},
   "outputs": [
    {
     "name": "stderr",
     "output_type": "stream",
     "text": [
      "/Users/sb/anaconda3/lib/python3.6/site-packages/matplotlib/axes/_axes.py:6462: UserWarning: The 'normed' kwarg is deprecated, and has been replaced by the 'density' kwarg.\n",
      "  warnings.warn(\"The 'normed' kwarg is deprecated, and has been \"\n",
      "/Users/sb/anaconda3/lib/python3.6/site-packages/matplotlib/axes/_axes.py:6462: UserWarning: The 'normed' kwarg is deprecated, and has been replaced by the 'density' kwarg.\n",
      "  warnings.warn(\"The 'normed' kwarg is deprecated, and has been \"\n"
     ]
    },
    {
     "data": {
      "text/plain": [
       "<matplotlib.axes._subplots.AxesSubplot at 0x1a1bfd54e0>"
      ]
     },
     "execution_count": 16,
     "metadata": {},
     "output_type": "execute_result"
    },
    {
     "data": {
      "image/png": "[encoded data removed]",
      "text/plain": [
       "<Figure size 432x288 with 1 Axes>"
      ]
     },
     "metadata": {},
     "output_type": "display_data"
    }
   ],
   "source": [
    "#4. How satisfaction levels influence whether to stay or leave the company?\n",
    "sn.distplot( hr_df[hr_df.left == 0]['satisfaction_level'], color = 'g')\n",
    "sn.distplot( hr_df[hr_df.left == 1]['satisfaction_level'], color = 'r')"
   ]
  },
  {
   "cell_type": "markdown",
   "metadata": {},
   "source": [
    "It can be noted, large number of people who had lower satisfaction levels, have left the company. \n",
    "Especially, people who have satisfaction level less than 0.5. This makes sense. But there is also a surge in \n",
    "at higher level of satisfaction. Need to understand and deal with these employees with a different stategy."
   ]
  },
  {
   "cell_type": "code",
   "execution_count": 19,
   "metadata": {},
   "outputs": [
    {
     "data": {
      "text/plain": [
       "0.666809590479516"
      ]
     },
     "execution_count": 19,
     "metadata": {},
     "output_type": "execute_result"
    }
   ],
   "source": [
    "#5. Average satisfaction levels for people who leave and stay back in the company\n",
    "sl_left_mean = np.mean( hr_df[hr_df.left == 0]['satisfaction_level'] )\n",
    "sl_left_mean"
   ]
  },
  {
   "cell_type": "code",
   "execution_count": 20,
   "metadata": {},
   "outputs": [
    {
     "data": {
      "text/plain": [
       "0.21709425554771716"
      ]
     },
     "execution_count": 20,
     "metadata": {},
     "output_type": "execute_result"
    }
   ],
   "source": [
    "np.std( hr_df[hr_df.left == 0]['satisfaction_level'] )"
   ]
  },
  {
   "cell_type": "code",
   "execution_count": 21,
   "metadata": {},
   "outputs": [
    {
     "data": {
      "text/plain": [
       "0.44009801176140917"
      ]
     },
     "execution_count": 21,
     "metadata": {},
     "output_type": "execute_result"
    }
   ],
   "source": [
    "np.mean( hr_df[hr_df.left == 1]['satisfaction_level'] )"
   ]
  },
  {
   "cell_type": "code",
   "execution_count": 28,
   "metadata": {},
   "outputs": [
    {
     "data": {
      "text/plain": [
       "0.2638964784854295"
      ]
     },
     "execution_count": 28,
     "metadata": {},
     "output_type": "execute_result"
    }
   ],
   "source": [
    "np.std( hr_df[hr_df.left == 1]['satisfaction_level'] )"
   ]
  },
  {
   "cell_type": "markdown",
   "metadata": {},
   "source": [
    "### Hypothesis Test: Does lower satisfaction levels lead to people leaving the company\n",
    "H0 : Average satisfaction level of people leaving is same as average satisfaction of people staying <br>\n",
    "H1 : Average satisfaction level of people leaving is less than as average satisfaction of people staying   "
   ]
  },
  {
   "cell_type": "code",
   "execution_count": 29,
   "metadata": {},
   "outputs": [
    {
     "data": {
      "text/plain": [
       "Ttest_indResult(statistic=-51.61280155890104, pvalue=0.0)"
      ]
     },
     "execution_count": 29,
     "metadata": {},
     "output_type": "execute_result"
    }
   ],
   "source": [
    "from scipy import stats\n",
    "\n",
    "stats.ttest_ind( hr_df[hr_df.left == 1]['satisfaction_level'], hr_df[hr_df.left == 0]['satisfaction_level'])"
   ]
  },
  {
   "cell_type": "markdown",
   "metadata": {},
   "source": [
    "The test establishes that the average satisfaction levels are different."
   ]
  },
  {
   "cell_type": "code",
   "execution_count": 30,
   "metadata": {},
   "outputs": [
    {
     "name": "stderr",
     "output_type": "stream",
     "text": [
      "/Users/sb/anaconda3/lib/python3.6/site-packages/matplotlib/axes/_axes.py:6462: UserWarning: The 'normed' kwarg is deprecated, and has been replaced by the 'density' kwarg.\n",
      "  warnings.warn(\"The 'normed' kwarg is deprecated, and has been \"\n",
      "/Users/sb/anaconda3/lib/python3.6/site-packages/matplotlib/axes/_axes.py:6462: UserWarning: The 'normed' kwarg is deprecated, and has been replaced by the 'density' kwarg.\n",
      "  warnings.warn(\"The 'normed' kwarg is deprecated, and has been \"\n"
     ]
    },
    {
     "data": {
      "text/plain": [
       "<matplotlib.axes._subplots.AxesSubplot at 0x1a231f56a0>"
      ]
     },
     "execution_count": 30,
     "metadata": {},
     "output_type": "execute_result"
    },
    {
     "data": {
      "image/png": "[encoded data removed]",
      "text/plain": [
       "<Figure size 432x288 with 1 Axes>"
      ]
     },
     "metadata": {},
     "output_type": "display_data"
    }
   ],
   "source": [
    "# 6. How last evaluation scores influencing whether to stay or leave the company?\n",
    "sn.distplot( hr_df[hr_df.left == 0]['last_evaluation'], color = 'r')\n",
    "sn.distplot( hr_df[hr_df.left == 1]['last_evaluation'], color = 'g')"
   ]
  },
  {
   "cell_type": "markdown",
   "metadata": {},
   "source": [
    "People with low evaluation and very high evaluation are leaving, where as people with average evaluation scores are staying back. That seems interesting."
   ]
  },
  {
   "cell_type": "code",
   "execution_count": 22,
   "metadata": {},
   "outputs": [],
   "source": [
    "# 7. How time spent in company influences attrition?\n",
    "time_spend_count = hr_df[['time_spend_company', 'left']].groupby(['time_spend_company', 'left']).size()\n",
    "time_spend_percent = time_spend_count.groupby(level=[0]).apply(lambda x: x / x.sum()).reset_index()\n",
    "time_spend_percent.columns = ['time_spend_company', 'left', 'percent']"
   ]
  },
  {
   "cell_type": "code",
   "execution_count": 23,
   "metadata": {},
   "outputs": [
    {
     "data": {
      "text/plain": [
       "<seaborn.axisgrid.FacetGrid at 0x1a2437a748>"
      ]
     },
     "execution_count": 23,
     "metadata": {},
     "output_type": "execute_result"
    },
    {
     "data": {
      "image/png": "[encoded data removed]",
      "text/plain": [
       "<Figure size 330.375x288 with 1 Axes>"
      ]
     },
     "metadata": {},
     "output_type": "display_data"
    }
   ],
   "source": [
    "sn.factorplot(x=\"time_spend_company\", y = 'percent', hue=\"left\", data=time_spend_percent,\n",
    "               size=4, kind=\"bar\", palette=\"muted\")"
   ]
  },
  {
   "cell_type": "markdown",
   "metadata": {},
   "source": [
    "People who have spent 2 years are not leaving the company. But as experience grows people start leaving and highest after they spend 5 years in the company. But once they cross the golden years '7', they are not leaving."
   ]
  },
  {
   "cell_type": "code",
   "execution_count": 42,
   "metadata": {},
   "outputs": [
    {
     "data": {
      "text/plain": [
       "<seaborn.axisgrid.FacetGrid at 0x1a23cb5c88>"
      ]
     },
     "execution_count": 42,
     "metadata": {},
     "output_type": "execute_result"
    },
    {
     "data": {
      "image/png": "[encoded data removed]",
      "text/plain": [
       "<Figure size 474.375x432 with 1 Axes>"
      ]
     },
     "metadata": {},
     "output_type": "display_data"
    }
   ],
   "source": [
    "# 8. Which department has maximum attrition?\n",
    "sn.factorplot?\n",
    "dept_count = hr_df[['department', 'left']].groupby(['department', 'left']).size()\n",
    "dept_count_percent = dept_count.groupby(level=[0]).apply(lambda x: x / x.sum()).reset_index()\n",
    "dept_count_percent.columns = ['dept', 'left', 'percent']\n",
    "sn.factorplot(y=\"dept\",\n",
    "            x = 'percent',\n",
    "            hue=\"left\",\n",
    "            data = dept_count_percent,\n",
    "            size=6,\n",
    "            kind=\"bar\",\n",
    "            palette=\"muted\")"
   ]
  },
  {
   "cell_type": "markdown",
   "metadata": {},
   "source": [
    "The percentage of people leaving the company is evenly distributed across all depts. Surprisingly, the percentage is high in HR itself. Lowest in management."
   ]
  },
  {
   "cell_type": "code",
   "execution_count": 24,
   "metadata": {},
   "outputs": [
    {
     "data": {
      "text/html": [
       "<div>\n",
       "<style scoped>\n",
       "    .dataframe tbody tr th:only-of-type {\n",
       "        vertical-align: middle;\n",
       "    }\n",
       "\n",
       "    .dataframe tbody tr th {\n",
       "        vertical-align: top;\n",
       "    }\n",
       "\n",
       "    .dataframe thead th {\n",
       "        text-align: right;\n",
       "    }\n",
       "</style>\n",
       "<table border=\"1\" class=\"dataframe\">\n",
       "  <thead>\n",
       "    <tr style=\"text-align: right;\">\n",
       "      <th>left</th>\n",
       "      <th>0</th>\n",
       "      <th>1</th>\n",
       "    </tr>\n",
       "    <tr>\n",
       "      <th>promotion_last_5years</th>\n",
       "      <th></th>\n",
       "      <th></th>\n",
       "    </tr>\n",
       "  </thead>\n",
       "  <tbody>\n",
       "    <tr>\n",
       "      <th>0</th>\n",
       "      <td>11128</td>\n",
       "      <td>3552</td>\n",
       "    </tr>\n",
       "    <tr>\n",
       "      <th>1</th>\n",
       "      <td>300</td>\n",
       "      <td>19</td>\n",
       "    </tr>\n",
       "  </tbody>\n",
       "</table>\n",
       "</div>"
      ],
      "text/plain": [
       "left                       0     1\n",
       "promotion_last_5years             \n",
       "0                      11128  3552\n",
       "1                        300    19"
      ]
     },
     "execution_count": 24,
     "metadata": {},
     "output_type": "execute_result"
    }
   ],
   "source": [
    "# 9. Effect of whether someone got promoted in last 5 years?\n",
    "pd.crosstab( hr_df.promotion_last_5years, hr_df.left )"
   ]
  },
  {
   "cell_type": "code",
   "execution_count": 25,
   "metadata": {},
   "outputs": [
    {
     "data": {
      "text/plain": [
       "<seaborn.axisgrid.FacetGrid at 0x1a24390e48>"
      ]
     },
     "execution_count": 25,
     "metadata": {},
     "output_type": "execute_result"
    },
    {
     "data": {
      "image/png": "[encoded data removed]",
      "text/plain": [
       "<Figure size 330.375x288 with 1 Axes>"
      ]
     },
     "metadata": {},
     "output_type": "display_data"
    }
   ],
   "source": [
    "sn.factorplot(x=\"promotion_last_5years\", hue = 'left', data=hr_df,\n",
    "               size=4, kind=\"count\", palette=\"muted\")"
   ]
  },
  {
   "cell_type": "markdown",
   "metadata": {},
   "source": [
    "Very few people who got promoted in last 5 years left the company, compared to people who are not promoted in last 5 years"
   ]
  },
  {
   "cell_type": "code",
   "execution_count": 26,
   "metadata": {},
   "outputs": [
    {
     "data": {
      "text/plain": [
       "<seaborn.axisgrid.FacetGrid at 0x1a244fea58>"
      ]
     },
     "execution_count": 26,
     "metadata": {},
     "output_type": "execute_result"
    },
    {
     "data": {
      "image/png": "[encoded data removed]",
      "text/plain": [
       "<Figure size 330.375x288 with 1 Axes>"
      ]
     },
     "metadata": {},
     "output_type": "display_data"
    }
   ],
   "source": [
    "#10.  How Salary is influencing attrition decisions?\n",
    "sn.factorplot(x=\"salary\", hue = 'left', data=hr_df,\n",
    "               size=4, kind=\"count\", palette=\"muted\")"
   ]
  },
  {
   "cell_type": "code",
   "execution_count": 27,
   "metadata": {},
   "outputs": [
    {
     "name": "stderr",
     "output_type": "stream",
     "text": [
      "/Users/sb/anaconda3/lib/python3.6/site-packages/matplotlib/axes/_axes.py:6462: UserWarning: The 'normed' kwarg is deprecated, and has been replaced by the 'density' kwarg.\n",
      "  warnings.warn(\"The 'normed' kwarg is deprecated, and has been \"\n",
      "/Users/sb/anaconda3/lib/python3.6/site-packages/matplotlib/axes/_axes.py:6462: UserWarning: The 'normed' kwarg is deprecated, and has been replaced by the 'density' kwarg.\n",
      "  warnings.warn(\"The 'normed' kwarg is deprecated, and has been \"\n",
      "/Users/sb/anaconda3/lib/python3.6/site-packages/matplotlib/axes/_axes.py:6462: UserWarning: The 'normed' kwarg is deprecated, and has been replaced by the 'density' kwarg.\n",
      "  warnings.warn(\"The 'normed' kwarg is deprecated, and has been \"\n"
     ]
    },
    {
     "data": {
      "text/plain": [
       "<matplotlib.axes._subplots.AxesSubplot at 0x1a2485d278>"
      ]
     },
     "execution_count": 27,
     "metadata": {},
     "output_type": "execute_result"
    },
    {
     "data": {
      "image/png": "[encoded data removed]",
      "text/plain": [
       "<Figure size 432x288 with 1 Axes>"
      ]
     },
     "metadata": {},
     "output_type": "display_data"
    }
   ],
   "source": [
    "#11. Does higher salary lead to higher satisfaction level?\n",
    "sn.distplot( hr_df[hr_df.salary == 'low']['satisfaction_level'], color = 'b')\n",
    "sn.distplot( hr_df[hr_df.salary == 'medium']['satisfaction_level'], color = 'g')\n",
    "sn.distplot( hr_df[hr_df.salary == 'high']['satisfaction_level'], color = 'r')"
   ]
  },
  {
   "cell_type": "code",
   "execution_count": 28,
   "metadata": {},
   "outputs": [
    {
     "data": {
      "text/plain": [
       "<seaborn.axisgrid.FacetGrid at 0x1a2434f4e0>"
      ]
     },
     "execution_count": 28,
     "metadata": {},
     "output_type": "execute_result"
    },
    {
     "data": {
      "image/png": "[encoded data removed]",
      "text/plain": [
       "<Figure size 1122.38x360 with 3 Axes>"
      ]
     },
     "metadata": {},
     "output_type": "display_data"
    }
   ],
   "source": [
    "#12.How salaries across departments are related to attrition?\n",
    "sn.factorplot( y = \"department\",\n",
    "            col=\"salary\",\n",
    "            hue = \"left\",\n",
    "            data=hr_df,\n",
    "            kind=\"count\",\n",
    "            size=5)"
   ]
  },
  {
   "cell_type": "markdown",
   "metadata": {},
   "source": [
    "No surprises. People with lowers salary have maximum percentage of exodus, while people with higher salary the exodus is least."
   ]
  },
  {
   "cell_type": "code",
   "execution_count": 29,
   "metadata": {},
   "outputs": [
    {
     "data": {
      "image/png": "[encoded data removed]",
      "text/plain": [
       "<Figure size 432x432 with 2 Axes>"
      ]
     },
     "metadata": {},
     "output_type": "display_data"
    }
   ],
   "source": [
    "# 13. Lets check corrleation between Variables\n",
    "corrmat = hr_df.corr()\n",
    "f, ax = plt.pyplot.subplots(figsize=(6, 6))\n",
    "sn.heatmap(corrmat, vmax=.8, annot=True)\n",
    "plt.pyplot.show()"
   ]
  },
  {
   "cell_type": "markdown",
   "metadata": {},
   "source": [
    "# Some key observations:\n",
    "Satisfaction level reduces as people spend more time in the company. Also, interestingly when they work on more number of projects. <br>\n",
    "Evaluation score is positively correlated with spending more montly hours and number of projects. <br>\n",
    "As satisfaction level reduces, people tend to leave company <br>"
   ]
  },
  {
   "cell_type": "markdown",
   "metadata": {},
   "source": [
    "### PREDICTIVE MODEL: Build a model to predict if an employee will leave the company"
   ]
  },
  {
   "cell_type": "code",
   "execution_count": null,
   "metadata": {},
   "outputs": [],
   "source": [
    "hr_df.columns"
   ]
  },
  {
   "cell_type": "code",
   "execution_count": null,
   "metadata": {},
   "outputs": [],
   "source": [
    "hr_df.head()"
   ]
  },
  {
   "cell_type": "code",
   "execution_count": 33,
   "metadata": {},
   "outputs": [],
   "source": [
    "# Encoding Categorical Features\n",
    "numerical_features = ['satisfaction_level', 'last_evaluation', 'number_project',\n",
    "     'average_montly_hours', 'time_spend_company']\n",
    "\n",
    "categorical_features = ['Work_accident','promotion_last_5years', 'department', 'salary']"
   ]
  },
  {
   "cell_type": "code",
   "execution_count": 34,
   "metadata": {},
   "outputs": [],
   "source": [
    "# An utility function to create dummy variable\n",
    "def create_dummies( df, colname ):\n",
    "    col_dummies = pd.get_dummies(df[colname], prefix=colname)\n",
    "    col_dummies.drop(col_dummies.columns[0], axis=1, inplace=True)\n",
    "    df = pd.concat([df, col_dummies], axis=1)\n",
    "    df.drop( colname, axis = 1, inplace = True )\n",
    "    return df"
   ]
  },
  {
   "cell_type": "code",
   "execution_count": 35,
   "metadata": {},
   "outputs": [],
   "source": [
    "for c_feature in categorical_features:\n",
    "  hr_df = create_dummies( hr_df, c_feature )"
   ]
  },
  {
   "cell_type": "code",
   "execution_count": 36,
   "metadata": {},
   "outputs": [
    {
     "data": {
      "text/html": [
       "<div>\n",
       "<style scoped>\n",
       "    .dataframe tbody tr th:only-of-type {\n",
       "        vertical-align: middle;\n",
       "    }\n",
       "\n",
       "    .dataframe tbody tr th {\n",
       "        vertical-align: top;\n",
       "    }\n",
       "\n",
       "    .dataframe thead th {\n",
       "        text-align: right;\n",
       "    }\n",
       "</style>\n",
       "<table border=\"1\" class=\"dataframe\">\n",
       "  <thead>\n",
       "    <tr style=\"text-align: right;\">\n",
       "      <th></th>\n",
       "      <th>satisfaction_level</th>\n",
       "      <th>last_evaluation</th>\n",
       "      <th>number_project</th>\n",
       "      <th>average_montly_hours</th>\n",
       "      <th>time_spend_company</th>\n",
       "      <th>left</th>\n",
       "      <th>Work_accident_1</th>\n",
       "      <th>promotion_last_5years_1</th>\n",
       "      <th>department_RandD</th>\n",
       "      <th>department_accounting</th>\n",
       "      <th>department_hr</th>\n",
       "      <th>department_management</th>\n",
       "      <th>department_marketing</th>\n",
       "      <th>department_product_mng</th>\n",
       "      <th>department_sales</th>\n",
       "      <th>department_support</th>\n",
       "      <th>department_technical</th>\n",
       "      <th>salary_low</th>\n",
       "      <th>salary_medium</th>\n",
       "    </tr>\n",
       "  </thead>\n",
       "  <tbody>\n",
       "    <tr>\n",
       "      <th>0</th>\n",
       "      <td>0.38</td>\n",
       "      <td>0.53</td>\n",
       "      <td>2</td>\n",
       "      <td>157</td>\n",
       "      <td>3</td>\n",
       "      <td>1</td>\n",
       "      <td>0</td>\n",
       "      <td>0</td>\n",
       "      <td>0</td>\n",
       "      <td>0</td>\n",
       "      <td>0</td>\n",
       "      <td>0</td>\n",
       "      <td>0</td>\n",
       "      <td>0</td>\n",
       "      <td>1</td>\n",
       "      <td>0</td>\n",
       "      <td>0</td>\n",
       "      <td>1</td>\n",
       "      <td>0</td>\n",
       "    </tr>\n",
       "    <tr>\n",
       "      <th>1</th>\n",
       "      <td>0.80</td>\n",
       "      <td>0.86</td>\n",
       "      <td>5</td>\n",
       "      <td>262</td>\n",
       "      <td>6</td>\n",
       "      <td>1</td>\n",
       "      <td>0</td>\n",
       "      <td>0</td>\n",
       "      <td>0</td>\n",
       "      <td>0</td>\n",
       "      <td>0</td>\n",
       "      <td>0</td>\n",
       "      <td>0</td>\n",
       "      <td>0</td>\n",
       "      <td>1</td>\n",
       "      <td>0</td>\n",
       "      <td>0</td>\n",
       "      <td>0</td>\n",
       "      <td>1</td>\n",
       "    </tr>\n",
       "    <tr>\n",
       "      <th>2</th>\n",
       "      <td>0.11</td>\n",
       "      <td>0.88</td>\n",
       "      <td>7</td>\n",
       "      <td>272</td>\n",
       "      <td>4</td>\n",
       "      <td>1</td>\n",
       "      <td>0</td>\n",
       "      <td>0</td>\n",
       "      <td>0</td>\n",
       "      <td>0</td>\n",
       "      <td>0</td>\n",
       "      <td>0</td>\n",
       "      <td>0</td>\n",
       "      <td>0</td>\n",
       "      <td>1</td>\n",
       "      <td>0</td>\n",
       "      <td>0</td>\n",
       "      <td>0</td>\n",
       "      <td>1</td>\n",
       "    </tr>\n",
       "    <tr>\n",
       "      <th>3</th>\n",
       "      <td>0.72</td>\n",
       "      <td>0.87</td>\n",
       "      <td>5</td>\n",
       "      <td>223</td>\n",
       "      <td>5</td>\n",
       "      <td>1</td>\n",
       "      <td>0</td>\n",
       "      <td>0</td>\n",
       "      <td>0</td>\n",
       "      <td>0</td>\n",
       "      <td>0</td>\n",
       "      <td>0</td>\n",
       "      <td>0</td>\n",
       "      <td>0</td>\n",
       "      <td>1</td>\n",
       "      <td>0</td>\n",
       "      <td>0</td>\n",
       "      <td>1</td>\n",
       "      <td>0</td>\n",
       "    </tr>\n",
       "    <tr>\n",
       "      <th>4</th>\n",
       "      <td>0.37</td>\n",
       "      <td>0.52</td>\n",
       "      <td>2</td>\n",
       "      <td>159</td>\n",
       "      <td>3</td>\n",
       "      <td>1</td>\n",
       "      <td>0</td>\n",
       "      <td>0</td>\n",
       "      <td>0</td>\n",
       "      <td>0</td>\n",
       "      <td>0</td>\n",
       "      <td>0</td>\n",
       "      <td>0</td>\n",
       "      <td>0</td>\n",
       "      <td>1</td>\n",
       "      <td>0</td>\n",
       "      <td>0</td>\n",
       "      <td>1</td>\n",
       "      <td>0</td>\n",
       "    </tr>\n",
       "  </tbody>\n",
       "</table>\n",
       "</div>"
      ],
      "text/plain": [
       "   satisfaction_level  last_evaluation  number_project  average_montly_hours  \\\n",
       "0                0.38             0.53               2                   157   \n",
       "1                0.80             0.86               5                   262   \n",
       "2                0.11             0.88               7                   272   \n",
       "3                0.72             0.87               5                   223   \n",
       "4                0.37             0.52               2                   159   \n",
       "\n",
       "   time_spend_company  left  Work_accident_1  promotion_last_5years_1  \\\n",
       "0                   3     1                0                        0   \n",
       "1                   6     1                0                        0   \n",
       "2                   4     1                0                        0   \n",
       "3                   5     1                0                        0   \n",
       "4                   3     1                0                        0   \n",
       "\n",
       "   department_RandD  department_accounting  department_hr  \\\n",
       "0                 0                      0              0   \n",
       "1                 0                      0              0   \n",
       "2                 0                      0              0   \n",
       "3                 0                      0              0   \n",
       "4                 0                      0              0   \n",
       "\n",
       "   department_management  department_marketing  department_product_mng  \\\n",
       "0                      0                     0                       0   \n",
       "1                      0                     0                       0   \n",
       "2                      0                     0                       0   \n",
       "3                      0                     0                       0   \n",
       "4                      0                     0                       0   \n",
       "\n",
       "   department_sales  department_support  department_technical  salary_low  \\\n",
       "0                 1                   0                     0           1   \n",
       "1                 1                   0                     0           0   \n",
       "2                 1                   0                     0           0   \n",
       "3                 1                   0                     0           1   \n",
       "4                 1                   0                     0           1   \n",
       "\n",
       "   salary_medium  \n",
       "0              0  \n",
       "1              1  \n",
       "2              1  \n",
       "3              0  \n",
       "4              0  "
      ]
     },
     "execution_count": 36,
     "metadata": {},
     "output_type": "execute_result"
    }
   ],
   "source": [
    "hr_df.head()"
   ]
  },
  {
   "cell_type": "code",
   "execution_count": 37,
   "metadata": {},
   "outputs": [
    {
     "data": {
      "text/plain": [
       "Index(['Work_accident_1', 'average_montly_hours', 'department_RandD',\n",
       "       'department_accounting', 'department_hr', 'department_management',\n",
       "       'department_marketing', 'department_product_mng', 'department_sales',\n",
       "       'department_support', 'department_technical', 'last_evaluation',\n",
       "       'number_project', 'promotion_last_5years_1', 'salary_low',\n",
       "       'salary_medium', 'satisfaction_level', 'time_spend_company'],\n",
       "      dtype='object')"
      ]
     },
     "execution_count": 37,
     "metadata": {},
     "output_type": "execute_result"
    }
   ],
   "source": [
    "#Splitting the data\n",
    "\n",
    "feature_columns = hr_df.columns.difference( ['left'] )\n",
    "feature_columns"
   ]
  },
  {
   "cell_type": "code",
   "execution_count": 38,
   "metadata": {},
   "outputs": [
    {
     "name": "stderr",
     "output_type": "stream",
     "text": [
      "/Users/sb/anaconda3/lib/python3.6/site-packages/sklearn/cross_validation.py:41: DeprecationWarning: This module was deprecated in version 0.18 in favor of the model_selection module into which all the refactored classes and functions are moved. Also note that the interface of the new CV iterators are different from that of this module. This module will be removed in 0.20.\n",
      "  \"This module will be removed in 0.20.\", DeprecationWarning)\n"
     ]
    }
   ],
   "source": [
    "from sklearn.cross_validation import train_test_split\n",
    "\n",
    "\n",
    "train_X, test_X, train_y, test_y = train_test_split( hr_df[feature_columns],\n",
    "                                                  hr_df['left'],\n",
    "                                                  test_size = 0.2,\n",
    "                                                  random_state = 42 )"
   ]
  },
  {
   "cell_type": "code",
   "execution_count": 40,
   "metadata": {},
   "outputs": [
    {
     "data": {
      "text/plain": [
       "LogisticRegression(C=1.0, class_weight=None, dual=False, fit_intercept=True,\n",
       "          intercept_scaling=1, max_iter=100, multi_class='ovr', n_jobs=1,\n",
       "          penalty='l2', random_state=None, solver='liblinear', tol=0.0001,\n",
       "          verbose=0, warm_start=False)"
      ]
     },
     "execution_count": 40,
     "metadata": {},
     "output_type": "execute_result"
    }
   ],
   "source": [
    "# Building Models\n",
    "from sklearn.linear_model import LogisticRegression\n",
    "\n",
    "logreg = LogisticRegression()\n",
    "\n",
    "logreg.fit( train_X, train_y )"
   ]
  },
  {
   "cell_type": "code",
   "execution_count": 41,
   "metadata": {},
   "outputs": [
    {
     "data": {
      "text/plain": [
       "array([[-1.49266227,  0.00497563, -0.57076363,  0.09300301,  0.35887704,\n",
       "        -0.36238815,  0.1304743 ,  0.02380916,  0.0758418 ,  0.13493943,\n",
       "         0.19545538,  0.59258574, -0.30373341, -1.21727936,  1.81317255,\n",
       "         1.30886189, -4.10826754,  0.26529853]])"
      ]
     },
     "execution_count": 41,
     "metadata": {},
     "output_type": "execute_result"
    }
   ],
   "source": [
    "logreg.coef_"
   ]
  },
  {
   "cell_type": "code",
   "execution_count": 42,
   "metadata": {},
   "outputs": [
    {
     "data": {
      "text/plain": [
       "[('Work_accident_1', -1.4926622659264606),\n",
       " ('average_montly_hours', 0.004975630648702964),\n",
       " ('department_RandD', -0.5707636257250402),\n",
       " ('department_accounting', 0.09300301033506674),\n",
       " ('department_hr', 0.35887704320325536),\n",
       " ('department_management', -0.36238814510653666),\n",
       " ('department_marketing', 0.1304743042974414),\n",
       " ('department_product_mng', 0.023809160127111092),\n",
       " ('department_sales', 0.07584180052384325),\n",
       " ('department_support', 0.13493942577306295),\n",
       " ('department_technical', 0.19545537758819428),\n",
       " ('last_evaluation', 0.5925857374606656),\n",
       " ('number_project', -0.30373340935550674),\n",
       " ('promotion_last_5years_1', -1.2172793589365365),\n",
       " ('salary_low', 1.8131725510337624),\n",
       " ('salary_medium', 1.3088618866113126),\n",
       " ('satisfaction_level', -4.108267541873691),\n",
       " ('time_spend_company', 0.265298528613896)]"
      ]
     },
     "execution_count": 42,
     "metadata": {},
     "output_type": "execute_result"
    }
   ],
   "source": [
    "list( zip( feature_columns, logreg.coef_[0] ) )"
   ]
  },
  {
   "cell_type": "code",
   "execution_count": 43,
   "metadata": {},
   "outputs": [
    {
     "data": {
      "text/plain": [
       "array([-1.53003327])"
      ]
     },
     "execution_count": 43,
     "metadata": {},
     "output_type": "execute_result"
    }
   ],
   "source": [
    "logreg.intercept_"
   ]
  },
  {
   "cell_type": "code",
   "execution_count": 45,
   "metadata": {},
   "outputs": [
    {
     "data": {
      "text/plain": [
       "array([[0.97203474, 0.02796526],\n",
       "       [0.91779184, 0.08220816],\n",
       "       [0.77044183, 0.22955817],\n",
       "       ...,\n",
       "       [0.89504186, 0.10495814],\n",
       "       [0.88543807, 0.11456193],\n",
       "       [0.60708574, 0.39291426]])"
      ]
     },
     "execution_count": 45,
     "metadata": {},
     "output_type": "execute_result"
    }
   ],
   "source": [
    "logreg.predict_proba(test_X)"
   ]
  },
  {
   "cell_type": "code",
   "execution_count": 46,
   "metadata": {},
   "outputs": [],
   "source": [
    "#Predicting the test cases\n",
    "hr_test_pred = pd.DataFrame( { 'actual':  test_y,\n",
    "                            'predicted': logreg.predict( test_X ) } )"
   ]
  },
  {
   "cell_type": "code",
   "execution_count": 69,
   "metadata": {},
   "outputs": [
    {
     "data": {
      "text/html": [
       "<div>\n",
       "<style scoped>\n",
       "    .dataframe tbody tr th:only-of-type {\n",
       "        vertical-align: middle;\n",
       "    }\n",
       "\n",
       "    .dataframe tbody tr th {\n",
       "        vertical-align: top;\n",
       "    }\n",
       "\n",
       "    .dataframe thead th {\n",
       "        text-align: right;\n",
       "    }\n",
       "</style>\n",
       "<table border=\"1\" class=\"dataframe\">\n",
       "  <thead>\n",
       "    <tr style=\"text-align: right;\">\n",
       "      <th></th>\n",
       "      <th>actual</th>\n",
       "      <th>predicted</th>\n",
       "    </tr>\n",
       "  </thead>\n",
       "  <tbody>\n",
       "    <tr>\n",
       "      <th>6723</th>\n",
       "      <td>0</td>\n",
       "      <td>0</td>\n",
       "    </tr>\n",
       "    <tr>\n",
       "      <th>6473</th>\n",
       "      <td>0</td>\n",
       "      <td>0</td>\n",
       "    </tr>\n",
       "    <tr>\n",
       "      <th>4679</th>\n",
       "      <td>0</td>\n",
       "      <td>0</td>\n",
       "    </tr>\n",
       "    <tr>\n",
       "      <th>862</th>\n",
       "      <td>1</td>\n",
       "      <td>0</td>\n",
       "    </tr>\n",
       "    <tr>\n",
       "      <th>7286</th>\n",
       "      <td>0</td>\n",
       "      <td>0</td>\n",
       "    </tr>\n",
       "    <tr>\n",
       "      <th>8127</th>\n",
       "      <td>0</td>\n",
       "      <td>0</td>\n",
       "    </tr>\n",
       "    <tr>\n",
       "      <th>3017</th>\n",
       "      <td>0</td>\n",
       "      <td>0</td>\n",
       "    </tr>\n",
       "    <tr>\n",
       "      <th>3087</th>\n",
       "      <td>0</td>\n",
       "      <td>1</td>\n",
       "    </tr>\n",
       "    <tr>\n",
       "      <th>6425</th>\n",
       "      <td>0</td>\n",
       "      <td>0</td>\n",
       "    </tr>\n",
       "    <tr>\n",
       "      <th>2250</th>\n",
       "      <td>0</td>\n",
       "      <td>1</td>\n",
       "    </tr>\n",
       "    <tr>\n",
       "      <th>542</th>\n",
       "      <td>1</td>\n",
       "      <td>0</td>\n",
       "    </tr>\n",
       "    <tr>\n",
       "      <th>9293</th>\n",
       "      <td>0</td>\n",
       "      <td>0</td>\n",
       "    </tr>\n",
       "    <tr>\n",
       "      <th>11723</th>\n",
       "      <td>0</td>\n",
       "      <td>0</td>\n",
       "    </tr>\n",
       "    <tr>\n",
       "      <th>4923</th>\n",
       "      <td>0</td>\n",
       "      <td>0</td>\n",
       "    </tr>\n",
       "    <tr>\n",
       "      <th>12070</th>\n",
       "      <td>1</td>\n",
       "      <td>0</td>\n",
       "    </tr>\n",
       "    <tr>\n",
       "      <th>10602</th>\n",
       "      <td>0</td>\n",
       "      <td>0</td>\n",
       "    </tr>\n",
       "    <tr>\n",
       "      <th>11874</th>\n",
       "      <td>0</td>\n",
       "      <td>0</td>\n",
       "    </tr>\n",
       "    <tr>\n",
       "      <th>11118</th>\n",
       "      <td>0</td>\n",
       "      <td>0</td>\n",
       "    </tr>\n",
       "    <tr>\n",
       "      <th>10778</th>\n",
       "      <td>0</td>\n",
       "      <td>0</td>\n",
       "    </tr>\n",
       "    <tr>\n",
       "      <th>8054</th>\n",
       "      <td>0</td>\n",
       "      <td>0</td>\n",
       "    </tr>\n",
       "    <tr>\n",
       "      <th>2312</th>\n",
       "      <td>0</td>\n",
       "      <td>0</td>\n",
       "    </tr>\n",
       "    <tr>\n",
       "      <th>14768</th>\n",
       "      <td>1</td>\n",
       "      <td>0</td>\n",
       "    </tr>\n",
       "    <tr>\n",
       "      <th>1889</th>\n",
       "      <td>1</td>\n",
       "      <td>1</td>\n",
       "    </tr>\n",
       "    <tr>\n",
       "      <th>8990</th>\n",
       "      <td>0</td>\n",
       "      <td>0</td>\n",
       "    </tr>\n",
       "    <tr>\n",
       "      <th>169</th>\n",
       "      <td>1</td>\n",
       "      <td>0</td>\n",
       "    </tr>\n",
       "    <tr>\n",
       "      <th>1795</th>\n",
       "      <td>1</td>\n",
       "      <td>0</td>\n",
       "    </tr>\n",
       "    <tr>\n",
       "      <th>14303</th>\n",
       "      <td>1</td>\n",
       "      <td>0</td>\n",
       "    </tr>\n",
       "    <tr>\n",
       "      <th>3919</th>\n",
       "      <td>0</td>\n",
       "      <td>0</td>\n",
       "    </tr>\n",
       "    <tr>\n",
       "      <th>14018</th>\n",
       "      <td>0</td>\n",
       "      <td>0</td>\n",
       "    </tr>\n",
       "    <tr>\n",
       "      <th>3728</th>\n",
       "      <td>0</td>\n",
       "      <td>0</td>\n",
       "    </tr>\n",
       "    <tr>\n",
       "      <th>...</th>\n",
       "      <td>...</td>\n",
       "      <td>...</td>\n",
       "    </tr>\n",
       "    <tr>\n",
       "      <th>11562</th>\n",
       "      <td>0</td>\n",
       "      <td>0</td>\n",
       "    </tr>\n",
       "    <tr>\n",
       "      <th>8009</th>\n",
       "      <td>0</td>\n",
       "      <td>0</td>\n",
       "    </tr>\n",
       "    <tr>\n",
       "      <th>10076</th>\n",
       "      <td>0</td>\n",
       "      <td>0</td>\n",
       "    </tr>\n",
       "    <tr>\n",
       "      <th>9129</th>\n",
       "      <td>0</td>\n",
       "      <td>0</td>\n",
       "    </tr>\n",
       "    <tr>\n",
       "      <th>8091</th>\n",
       "      <td>0</td>\n",
       "      <td>0</td>\n",
       "    </tr>\n",
       "    <tr>\n",
       "      <th>6805</th>\n",
       "      <td>0</td>\n",
       "      <td>0</td>\n",
       "    </tr>\n",
       "    <tr>\n",
       "      <th>12174</th>\n",
       "      <td>1</td>\n",
       "      <td>0</td>\n",
       "    </tr>\n",
       "    <tr>\n",
       "      <th>13065</th>\n",
       "      <td>0</td>\n",
       "      <td>0</td>\n",
       "    </tr>\n",
       "    <tr>\n",
       "      <th>3784</th>\n",
       "      <td>0</td>\n",
       "      <td>0</td>\n",
       "    </tr>\n",
       "    <tr>\n",
       "      <th>8280</th>\n",
       "      <td>0</td>\n",
       "      <td>0</td>\n",
       "    </tr>\n",
       "    <tr>\n",
       "      <th>3577</th>\n",
       "      <td>0</td>\n",
       "      <td>0</td>\n",
       "    </tr>\n",
       "    <tr>\n",
       "      <th>5151</th>\n",
       "      <td>0</td>\n",
       "      <td>0</td>\n",
       "    </tr>\n",
       "    <tr>\n",
       "      <th>4984</th>\n",
       "      <td>0</td>\n",
       "      <td>0</td>\n",
       "    </tr>\n",
       "    <tr>\n",
       "      <th>420</th>\n",
       "      <td>1</td>\n",
       "      <td>1</td>\n",
       "    </tr>\n",
       "    <tr>\n",
       "      <th>4447</th>\n",
       "      <td>0</td>\n",
       "      <td>0</td>\n",
       "    </tr>\n",
       "    <tr>\n",
       "      <th>3822</th>\n",
       "      <td>0</td>\n",
       "      <td>0</td>\n",
       "    </tr>\n",
       "    <tr>\n",
       "      <th>4819</th>\n",
       "      <td>0</td>\n",
       "      <td>0</td>\n",
       "    </tr>\n",
       "    <tr>\n",
       "      <th>1496</th>\n",
       "      <td>1</td>\n",
       "      <td>1</td>\n",
       "    </tr>\n",
       "    <tr>\n",
       "      <th>1047</th>\n",
       "      <td>1</td>\n",
       "      <td>0</td>\n",
       "    </tr>\n",
       "    <tr>\n",
       "      <th>11617</th>\n",
       "      <td>0</td>\n",
       "      <td>0</td>\n",
       "    </tr>\n",
       "    <tr>\n",
       "      <th>8719</th>\n",
       "      <td>0</td>\n",
       "      <td>0</td>\n",
       "    </tr>\n",
       "    <tr>\n",
       "      <th>856</th>\n",
       "      <td>1</td>\n",
       "      <td>1</td>\n",
       "    </tr>\n",
       "    <tr>\n",
       "      <th>9822</th>\n",
       "      <td>0</td>\n",
       "      <td>0</td>\n",
       "    </tr>\n",
       "    <tr>\n",
       "      <th>3944</th>\n",
       "      <td>0</td>\n",
       "      <td>0</td>\n",
       "    </tr>\n",
       "    <tr>\n",
       "      <th>8192</th>\n",
       "      <td>0</td>\n",
       "      <td>0</td>\n",
       "    </tr>\n",
       "    <tr>\n",
       "      <th>3297</th>\n",
       "      <td>0</td>\n",
       "      <td>0</td>\n",
       "    </tr>\n",
       "    <tr>\n",
       "      <th>14113</th>\n",
       "      <td>0</td>\n",
       "      <td>0</td>\n",
       "    </tr>\n",
       "    <tr>\n",
       "      <th>5514</th>\n",
       "      <td>0</td>\n",
       "      <td>0</td>\n",
       "    </tr>\n",
       "    <tr>\n",
       "      <th>9939</th>\n",
       "      <td>0</td>\n",
       "      <td>0</td>\n",
       "    </tr>\n",
       "    <tr>\n",
       "      <th>14346</th>\n",
       "      <td>1</td>\n",
       "      <td>0</td>\n",
       "    </tr>\n",
       "  </tbody>\n",
       "</table>\n",
       "<p>3000 rows × 2 columns</p>\n",
       "</div>"
      ],
      "text/plain": [
       "       actual  predicted\n",
       "6723        0          0\n",
       "6473        0          0\n",
       "4679        0          0\n",
       "862         1          0\n",
       "7286        0          0\n",
       "8127        0          0\n",
       "3017        0          0\n",
       "3087        0          1\n",
       "6425        0          0\n",
       "2250        0          1\n",
       "542         1          0\n",
       "9293        0          0\n",
       "11723       0          0\n",
       "4923        0          0\n",
       "12070       1          0\n",
       "10602       0          0\n",
       "11874       0          0\n",
       "11118       0          0\n",
       "10778       0          0\n",
       "8054        0          0\n",
       "2312        0          0\n",
       "14768       1          0\n",
       "1889        1          1\n",
       "8990        0          0\n",
       "169         1          0\n",
       "1795        1          0\n",
       "14303       1          0\n",
       "3919        0          0\n",
       "14018       0          0\n",
       "3728        0          0\n",
       "...       ...        ...\n",
       "11562       0          0\n",
       "8009        0          0\n",
       "10076       0          0\n",
       "9129        0          0\n",
       "8091        0          0\n",
       "6805        0          0\n",
       "12174       1          0\n",
       "13065       0          0\n",
       "3784        0          0\n",
       "8280        0          0\n",
       "3577        0          0\n",
       "5151        0          0\n",
       "4984        0          0\n",
       "420         1          1\n",
       "4447        0          0\n",
       "3822        0          0\n",
       "4819        0          0\n",
       "1496        1          1\n",
       "1047        1          0\n",
       "11617       0          0\n",
       "8719        0          0\n",
       "856         1          1\n",
       "9822        0          0\n",
       "3944        0          0\n",
       "8192        0          0\n",
       "3297        0          0\n",
       "14113       0          0\n",
       "5514        0          0\n",
       "9939        0          0\n",
       "14346       1          0\n",
       "\n",
       "[3000 rows x 2 columns]"
      ]
     },
     "execution_count": 69,
     "metadata": {},
     "output_type": "execute_result"
    }
   ],
   "source": [
    "hr_test_pred"
   ]
  },
  {
   "cell_type": "code",
   "execution_count": 47,
   "metadata": {},
   "outputs": [],
   "source": [
    "\n",
    "hr_test_pred = hr_test_pred.reset_index()"
   ]
  },
  {
   "cell_type": "code",
   "execution_count": 48,
   "metadata": {},
   "outputs": [
    {
     "data": {
      "text/html": [
       "<div>\n",
       "<style scoped>\n",
       "    .dataframe tbody tr th:only-of-type {\n",
       "        vertical-align: middle;\n",
       "    }\n",
       "\n",
       "    .dataframe tbody tr th {\n",
       "        vertical-align: top;\n",
       "    }\n",
       "\n",
       "    .dataframe thead th {\n",
       "        text-align: right;\n",
       "    }\n",
       "</style>\n",
       "<table border=\"1\" class=\"dataframe\">\n",
       "  <thead>\n",
       "    <tr style=\"text-align: right;\">\n",
       "      <th></th>\n",
       "      <th>index</th>\n",
       "      <th>actual</th>\n",
       "      <th>predicted</th>\n",
       "    </tr>\n",
       "  </thead>\n",
       "  <tbody>\n",
       "    <tr>\n",
       "      <th>1818</th>\n",
       "      <td>2406</td>\n",
       "      <td>0</td>\n",
       "      <td>0</td>\n",
       "    </tr>\n",
       "    <tr>\n",
       "      <th>756</th>\n",
       "      <td>4843</td>\n",
       "      <td>0</td>\n",
       "      <td>0</td>\n",
       "    </tr>\n",
       "    <tr>\n",
       "      <th>77</th>\n",
       "      <td>6105</td>\n",
       "      <td>0</td>\n",
       "      <td>0</td>\n",
       "    </tr>\n",
       "    <tr>\n",
       "      <th>882</th>\n",
       "      <td>8063</td>\n",
       "      <td>0</td>\n",
       "      <td>0</td>\n",
       "    </tr>\n",
       "    <tr>\n",
       "      <th>280</th>\n",
       "      <td>99</td>\n",
       "      <td>1</td>\n",
       "      <td>0</td>\n",
       "    </tr>\n",
       "    <tr>\n",
       "      <th>2595</th>\n",
       "      <td>7666</td>\n",
       "      <td>0</td>\n",
       "      <td>0</td>\n",
       "    </tr>\n",
       "    <tr>\n",
       "      <th>1024</th>\n",
       "      <td>1213</td>\n",
       "      <td>1</td>\n",
       "      <td>0</td>\n",
       "    </tr>\n",
       "    <tr>\n",
       "      <th>2802</th>\n",
       "      <td>2425</td>\n",
       "      <td>0</td>\n",
       "      <td>0</td>\n",
       "    </tr>\n",
       "    <tr>\n",
       "      <th>498</th>\n",
       "      <td>4705</td>\n",
       "      <td>0</td>\n",
       "      <td>0</td>\n",
       "    </tr>\n",
       "    <tr>\n",
       "      <th>264</th>\n",
       "      <td>12044</td>\n",
       "      <td>1</td>\n",
       "      <td>1</td>\n",
       "    </tr>\n",
       "  </tbody>\n",
       "</table>\n",
       "</div>"
      ],
      "text/plain": [
       "      index  actual  predicted\n",
       "1818   2406       0          0\n",
       "756    4843       0          0\n",
       "77     6105       0          0\n",
       "882    8063       0          0\n",
       "280      99       1          0\n",
       "2595   7666       0          0\n",
       "1024   1213       1          0\n",
       "2802   2425       0          0\n",
       "498    4705       0          0\n",
       "264   12044       1          1"
      ]
     },
     "execution_count": 48,
     "metadata": {},
     "output_type": "execute_result"
    }
   ],
   "source": [
    "#Comparing the predictions with actual test data\n",
    "hr_test_pred.sample( n = 10 )"
   ]
  },
  {
   "cell_type": "code",
   "execution_count": 49,
   "metadata": {},
   "outputs": [
    {
     "data": {
      "text/plain": [
       "array([[ 225,  481],\n",
       "       [ 175, 2119]])"
      ]
     },
     "execution_count": 49,
     "metadata": {},
     "output_type": "execute_result"
    }
   ],
   "source": [
    "# Creating a confusion matrix\n",
    "\n",
    "from sklearn import metrics\n",
    "\n",
    "cm = metrics.confusion_matrix( hr_test_pred.actual,\n",
    "                            hr_test_pred.predicted,[1,0])\n",
    "cm"
   ]
  },
  {
   "cell_type": "code",
   "execution_count": 50,
   "metadata": {},
   "outputs": [],
   "source": [
    "import matplotlib.pyplot as plt\n",
    "import seaborn as sn\n",
    "%matplotlib inline"
   ]
  },
  {
   "cell_type": "code",
   "execution_count": 51,
   "metadata": {},
   "outputs": [
    {
     "data": {
      "text/plain": [
       "Text(0.5,15,'Predicted label')"
      ]
     },
     "execution_count": 51,
     "metadata": {},
     "output_type": "execute_result"
    },
    {
     "data": {
      "image/png": "[encoded data removed]",
      "text/plain": [
       "<Figure size 432x288 with 2 Axes>"
      ]
     },
     "metadata": {},
     "output_type": "display_data"
    }
   ],
   "source": [
    "sn.heatmap(cm, annot=True,  fmt='.1f', xticklabels = [\"Left\", \"No Left\"] , yticklabels = [\"Left\", \"No Left\"] )\n",
    "plt.ylabel('True label')\n",
    "plt.xlabel('Predicted label')"
   ]
  },
  {
   "cell_type": "code",
   "execution_count": 53,
   "metadata": {},
   "outputs": [
    {
     "data": {
      "text/plain": [
       "0.6212054602349768"
      ]
     },
     "execution_count": 53,
     "metadata": {},
     "output_type": "execute_result"
    }
   ],
   "source": [
    "score = metrics.accuracy_score( hr_test_pred.actual, hr_test_pred.predicted )\n",
    "round( float(score), 2 )\n",
    "metrics.roc_auc_score( hr_test_pred.actual, hr_test_pred.predicted )"
   ]
  },
  {
   "cell_type": "markdown",
   "metadata": {},
   "source": [
    "Overall test accuracy is 78%. But it is not a good measure. The result is very high as there are lots of cases which are no left and the model has predicted most of them as no left. <br>\n",
    "The objective of the model is to indentify the people who will leave, so that the company can intervene and act.<br>\n",
    "This might be the case as the default model assumes people with more than 0.5 probability will not leave the company"
   ]
  },
  {
   "cell_type": "code",
   "execution_count": 54,
   "metadata": {},
   "outputs": [
    {
     "name": "stdout",
     "output_type": "stream",
     "text": [
      "      Work_accident_1  average_montly_hours  department_RandD  \\\n",
      "6723                1                   226                 0   \n",
      "\n",
      "      department_accounting  department_hr  department_management  \\\n",
      "6723                      0              0                      0   \n",
      "\n",
      "      department_marketing  department_product_mng  department_sales  \\\n",
      "6723                     1                       0                 0   \n",
      "\n",
      "      department_support  department_technical  last_evaluation  \\\n",
      "6723                   0                     0             0.96   \n",
      "\n",
      "      number_project  promotion_last_5years_1  salary_low  salary_medium  \\\n",
      "6723               5                        0           0              1   \n",
      "\n",
      "      satisfaction_level  time_spend_company  \n",
      "6723                0.65                   2  \n",
      "[[0.97203474 0.02796526]]\n"
     ]
    }
   ],
   "source": [
    "# Predit Probability\n",
    "print (test_X[:1])\n",
    "print (logreg.predict_proba( test_X[:1] ))"
   ]
  },
  {
   "cell_type": "markdown",
   "metadata": {},
   "source": [
    "The model is predicting the probability of him leaving the company is only 0.027, which is very low."
   ]
  },
  {
   "cell_type": "code",
   "execution_count": 55,
   "metadata": {},
   "outputs": [
    {
     "data": {
      "text/html": [
       "<div>\n",
       "<style scoped>\n",
       "    .dataframe tbody tr th:only-of-type {\n",
       "        vertical-align: middle;\n",
       "    }\n",
       "\n",
       "    .dataframe tbody tr th {\n",
       "        vertical-align: top;\n",
       "    }\n",
       "\n",
       "    .dataframe thead th {\n",
       "        text-align: right;\n",
       "    }\n",
       "</style>\n",
       "<table border=\"1\" class=\"dataframe\">\n",
       "  <thead>\n",
       "    <tr style=\"text-align: right;\">\n",
       "      <th></th>\n",
       "      <th>0</th>\n",
       "      <th>1</th>\n",
       "    </tr>\n",
       "  </thead>\n",
       "  <tbody>\n",
       "    <tr>\n",
       "      <th>0</th>\n",
       "      <td>0.972035</td>\n",
       "      <td>0.027965</td>\n",
       "    </tr>\n",
       "    <tr>\n",
       "      <th>1</th>\n",
       "      <td>0.917792</td>\n",
       "      <td>0.082208</td>\n",
       "    </tr>\n",
       "    <tr>\n",
       "      <th>2</th>\n",
       "      <td>0.770442</td>\n",
       "      <td>0.229558</td>\n",
       "    </tr>\n",
       "    <tr>\n",
       "      <th>3</th>\n",
       "      <td>0.523038</td>\n",
       "      <td>0.476962</td>\n",
       "    </tr>\n",
       "    <tr>\n",
       "      <th>4</th>\n",
       "      <td>0.975843</td>\n",
       "      <td>0.024157</td>\n",
       "    </tr>\n",
       "  </tbody>\n",
       "</table>\n",
       "</div>"
      ],
      "text/plain": [
       "          0         1\n",
       "0  0.972035  0.027965\n",
       "1  0.917792  0.082208\n",
       "2  0.770442  0.229558\n",
       "3  0.523038  0.476962\n",
       "4  0.975843  0.024157"
      ]
     },
     "execution_count": 55,
     "metadata": {},
     "output_type": "execute_result"
    }
   ],
   "source": [
    "#How good the model is?\n",
    "predict_proba_df = pd.DataFrame( logreg.predict_proba( test_X ) )\n",
    "predict_proba_df.head()"
   ]
  },
  {
   "cell_type": "code",
   "execution_count": 56,
   "metadata": {},
   "outputs": [],
   "source": [
    "hr_test_pred = pd.concat( [hr_test_pred, predict_proba_df], axis = 1 )"
   ]
  },
  {
   "cell_type": "code",
   "execution_count": 57,
   "metadata": {},
   "outputs": [],
   "source": [
    "hr_test_pred.columns = ['index', 'actual', 'predicted', 'Left_0', 'Left_1']"
   ]
  },
  {
   "cell_type": "code",
   "execution_count": 58,
   "metadata": {},
   "outputs": [
    {
     "data": {
      "text/html": [
       "<div>\n",
       "<style scoped>\n",
       "    .dataframe tbody tr th:only-of-type {\n",
       "        vertical-align: middle;\n",
       "    }\n",
       "\n",
       "    .dataframe tbody tr th {\n",
       "        vertical-align: top;\n",
       "    }\n",
       "\n",
       "    .dataframe thead th {\n",
       "        text-align: right;\n",
       "    }\n",
       "</style>\n",
       "<table border=\"1\" class=\"dataframe\">\n",
       "  <thead>\n",
       "    <tr style=\"text-align: right;\">\n",
       "      <th></th>\n",
       "      <th>index</th>\n",
       "      <th>actual</th>\n",
       "      <th>predicted</th>\n",
       "      <th>Left_0</th>\n",
       "      <th>Left_1</th>\n",
       "    </tr>\n",
       "  </thead>\n",
       "  <tbody>\n",
       "    <tr>\n",
       "      <th>0</th>\n",
       "      <td>6723</td>\n",
       "      <td>0</td>\n",
       "      <td>0</td>\n",
       "      <td>0.972035</td>\n",
       "      <td>0.027965</td>\n",
       "    </tr>\n",
       "    <tr>\n",
       "      <th>1</th>\n",
       "      <td>6473</td>\n",
       "      <td>0</td>\n",
       "      <td>0</td>\n",
       "      <td>0.917792</td>\n",
       "      <td>0.082208</td>\n",
       "    </tr>\n",
       "    <tr>\n",
       "      <th>2</th>\n",
       "      <td>4679</td>\n",
       "      <td>0</td>\n",
       "      <td>0</td>\n",
       "      <td>0.770442</td>\n",
       "      <td>0.229558</td>\n",
       "    </tr>\n",
       "    <tr>\n",
       "      <th>3</th>\n",
       "      <td>862</td>\n",
       "      <td>1</td>\n",
       "      <td>0</td>\n",
       "      <td>0.523038</td>\n",
       "      <td>0.476962</td>\n",
       "    </tr>\n",
       "    <tr>\n",
       "      <th>4</th>\n",
       "      <td>7286</td>\n",
       "      <td>0</td>\n",
       "      <td>0</td>\n",
       "      <td>0.975843</td>\n",
       "      <td>0.024157</td>\n",
       "    </tr>\n",
       "    <tr>\n",
       "      <th>5</th>\n",
       "      <td>8127</td>\n",
       "      <td>0</td>\n",
       "      <td>0</td>\n",
       "      <td>0.722851</td>\n",
       "      <td>0.277149</td>\n",
       "    </tr>\n",
       "    <tr>\n",
       "      <th>6</th>\n",
       "      <td>3017</td>\n",
       "      <td>0</td>\n",
       "      <td>0</td>\n",
       "      <td>0.985596</td>\n",
       "      <td>0.014404</td>\n",
       "    </tr>\n",
       "    <tr>\n",
       "      <th>7</th>\n",
       "      <td>3087</td>\n",
       "      <td>0</td>\n",
       "      <td>1</td>\n",
       "      <td>0.130254</td>\n",
       "      <td>0.869746</td>\n",
       "    </tr>\n",
       "    <tr>\n",
       "      <th>8</th>\n",
       "      <td>6425</td>\n",
       "      <td>0</td>\n",
       "      <td>0</td>\n",
       "      <td>0.769714</td>\n",
       "      <td>0.230286</td>\n",
       "    </tr>\n",
       "    <tr>\n",
       "      <th>9</th>\n",
       "      <td>2250</td>\n",
       "      <td>0</td>\n",
       "      <td>1</td>\n",
       "      <td>0.398617</td>\n",
       "      <td>0.601383</td>\n",
       "    </tr>\n",
       "    <tr>\n",
       "      <th>10</th>\n",
       "      <td>542</td>\n",
       "      <td>1</td>\n",
       "      <td>0</td>\n",
       "      <td>0.849762</td>\n",
       "      <td>0.150238</td>\n",
       "    </tr>\n",
       "    <tr>\n",
       "      <th>11</th>\n",
       "      <td>9293</td>\n",
       "      <td>0</td>\n",
       "      <td>0</td>\n",
       "      <td>0.976874</td>\n",
       "      <td>0.023126</td>\n",
       "    </tr>\n",
       "    <tr>\n",
       "      <th>12</th>\n",
       "      <td>11723</td>\n",
       "      <td>0</td>\n",
       "      <td>0</td>\n",
       "      <td>0.544752</td>\n",
       "      <td>0.455248</td>\n",
       "    </tr>\n",
       "    <tr>\n",
       "      <th>13</th>\n",
       "      <td>4923</td>\n",
       "      <td>0</td>\n",
       "      <td>0</td>\n",
       "      <td>0.837303</td>\n",
       "      <td>0.162697</td>\n",
       "    </tr>\n",
       "    <tr>\n",
       "      <th>14</th>\n",
       "      <td>12070</td>\n",
       "      <td>1</td>\n",
       "      <td>0</td>\n",
       "      <td>0.751747</td>\n",
       "      <td>0.248253</td>\n",
       "    </tr>\n",
       "    <tr>\n",
       "      <th>15</th>\n",
       "      <td>10602</td>\n",
       "      <td>0</td>\n",
       "      <td>0</td>\n",
       "      <td>0.650987</td>\n",
       "      <td>0.349013</td>\n",
       "    </tr>\n",
       "    <tr>\n",
       "      <th>16</th>\n",
       "      <td>11874</td>\n",
       "      <td>0</td>\n",
       "      <td>0</td>\n",
       "      <td>0.946752</td>\n",
       "      <td>0.053248</td>\n",
       "    </tr>\n",
       "    <tr>\n",
       "      <th>17</th>\n",
       "      <td>11118</td>\n",
       "      <td>0</td>\n",
       "      <td>0</td>\n",
       "      <td>0.814341</td>\n",
       "      <td>0.185659</td>\n",
       "    </tr>\n",
       "    <tr>\n",
       "      <th>18</th>\n",
       "      <td>10778</td>\n",
       "      <td>0</td>\n",
       "      <td>0</td>\n",
       "      <td>0.967643</td>\n",
       "      <td>0.032357</td>\n",
       "    </tr>\n",
       "    <tr>\n",
       "      <th>19</th>\n",
       "      <td>8054</td>\n",
       "      <td>0</td>\n",
       "      <td>0</td>\n",
       "      <td>0.866112</td>\n",
       "      <td>0.133888</td>\n",
       "    </tr>\n",
       "    <tr>\n",
       "      <th>20</th>\n",
       "      <td>2312</td>\n",
       "      <td>0</td>\n",
       "      <td>0</td>\n",
       "      <td>0.600870</td>\n",
       "      <td>0.399130</td>\n",
       "    </tr>\n",
       "    <tr>\n",
       "      <th>21</th>\n",
       "      <td>14768</td>\n",
       "      <td>1</td>\n",
       "      <td>0</td>\n",
       "      <td>0.525028</td>\n",
       "      <td>0.474972</td>\n",
       "    </tr>\n",
       "    <tr>\n",
       "      <th>22</th>\n",
       "      <td>1889</td>\n",
       "      <td>1</td>\n",
       "      <td>1</td>\n",
       "      <td>0.228529</td>\n",
       "      <td>0.771471</td>\n",
       "    </tr>\n",
       "    <tr>\n",
       "      <th>23</th>\n",
       "      <td>8990</td>\n",
       "      <td>0</td>\n",
       "      <td>0</td>\n",
       "      <td>0.962061</td>\n",
       "      <td>0.037939</td>\n",
       "    </tr>\n",
       "    <tr>\n",
       "      <th>24</th>\n",
       "      <td>169</td>\n",
       "      <td>1</td>\n",
       "      <td>0</td>\n",
       "      <td>0.544231</td>\n",
       "      <td>0.455769</td>\n",
       "    </tr>\n",
       "    <tr>\n",
       "      <th>25</th>\n",
       "      <td>1795</td>\n",
       "      <td>1</td>\n",
       "      <td>0</td>\n",
       "      <td>0.777867</td>\n",
       "      <td>0.222133</td>\n",
       "    </tr>\n",
       "    <tr>\n",
       "      <th>26</th>\n",
       "      <td>14303</td>\n",
       "      <td>1</td>\n",
       "      <td>0</td>\n",
       "      <td>0.545401</td>\n",
       "      <td>0.454599</td>\n",
       "    </tr>\n",
       "    <tr>\n",
       "      <th>27</th>\n",
       "      <td>3919</td>\n",
       "      <td>0</td>\n",
       "      <td>0</td>\n",
       "      <td>0.795449</td>\n",
       "      <td>0.204551</td>\n",
       "    </tr>\n",
       "    <tr>\n",
       "      <th>28</th>\n",
       "      <td>14018</td>\n",
       "      <td>0</td>\n",
       "      <td>0</td>\n",
       "      <td>0.727450</td>\n",
       "      <td>0.272550</td>\n",
       "    </tr>\n",
       "    <tr>\n",
       "      <th>29</th>\n",
       "      <td>3728</td>\n",
       "      <td>0</td>\n",
       "      <td>0</td>\n",
       "      <td>0.587278</td>\n",
       "      <td>0.412722</td>\n",
       "    </tr>\n",
       "    <tr>\n",
       "      <th>...</th>\n",
       "      <td>...</td>\n",
       "      <td>...</td>\n",
       "      <td>...</td>\n",
       "      <td>...</td>\n",
       "      <td>...</td>\n",
       "    </tr>\n",
       "    <tr>\n",
       "      <th>2970</th>\n",
       "      <td>11562</td>\n",
       "      <td>0</td>\n",
       "      <td>0</td>\n",
       "      <td>0.765214</td>\n",
       "      <td>0.234786</td>\n",
       "    </tr>\n",
       "    <tr>\n",
       "      <th>2971</th>\n",
       "      <td>8009</td>\n",
       "      <td>0</td>\n",
       "      <td>0</td>\n",
       "      <td>0.987319</td>\n",
       "      <td>0.012681</td>\n",
       "    </tr>\n",
       "    <tr>\n",
       "      <th>2972</th>\n",
       "      <td>10076</td>\n",
       "      <td>0</td>\n",
       "      <td>0</td>\n",
       "      <td>0.962141</td>\n",
       "      <td>0.037859</td>\n",
       "    </tr>\n",
       "    <tr>\n",
       "      <th>2973</th>\n",
       "      <td>9129</td>\n",
       "      <td>0</td>\n",
       "      <td>0</td>\n",
       "      <td>0.741299</td>\n",
       "      <td>0.258701</td>\n",
       "    </tr>\n",
       "    <tr>\n",
       "      <th>2974</th>\n",
       "      <td>8091</td>\n",
       "      <td>0</td>\n",
       "      <td>0</td>\n",
       "      <td>0.832550</td>\n",
       "      <td>0.167450</td>\n",
       "    </tr>\n",
       "    <tr>\n",
       "      <th>2975</th>\n",
       "      <td>6805</td>\n",
       "      <td>0</td>\n",
       "      <td>0</td>\n",
       "      <td>0.867960</td>\n",
       "      <td>0.132040</td>\n",
       "    </tr>\n",
       "    <tr>\n",
       "      <th>2976</th>\n",
       "      <td>12174</td>\n",
       "      <td>1</td>\n",
       "      <td>0</td>\n",
       "      <td>0.595244</td>\n",
       "      <td>0.404756</td>\n",
       "    </tr>\n",
       "    <tr>\n",
       "      <th>2977</th>\n",
       "      <td>13065</td>\n",
       "      <td>0</td>\n",
       "      <td>0</td>\n",
       "      <td>0.794503</td>\n",
       "      <td>0.205497</td>\n",
       "    </tr>\n",
       "    <tr>\n",
       "      <th>2978</th>\n",
       "      <td>3784</td>\n",
       "      <td>0</td>\n",
       "      <td>0</td>\n",
       "      <td>0.779241</td>\n",
       "      <td>0.220759</td>\n",
       "    </tr>\n",
       "    <tr>\n",
       "      <th>2979</th>\n",
       "      <td>8280</td>\n",
       "      <td>0</td>\n",
       "      <td>0</td>\n",
       "      <td>0.925971</td>\n",
       "      <td>0.074029</td>\n",
       "    </tr>\n",
       "    <tr>\n",
       "      <th>2980</th>\n",
       "      <td>3577</td>\n",
       "      <td>0</td>\n",
       "      <td>0</td>\n",
       "      <td>0.813834</td>\n",
       "      <td>0.186166</td>\n",
       "    </tr>\n",
       "    <tr>\n",
       "      <th>2981</th>\n",
       "      <td>5151</td>\n",
       "      <td>0</td>\n",
       "      <td>0</td>\n",
       "      <td>0.914110</td>\n",
       "      <td>0.085890</td>\n",
       "    </tr>\n",
       "    <tr>\n",
       "      <th>2982</th>\n",
       "      <td>4984</td>\n",
       "      <td>0</td>\n",
       "      <td>0</td>\n",
       "      <td>0.918633</td>\n",
       "      <td>0.081367</td>\n",
       "    </tr>\n",
       "    <tr>\n",
       "      <th>2983</th>\n",
       "      <td>420</td>\n",
       "      <td>1</td>\n",
       "      <td>1</td>\n",
       "      <td>0.321762</td>\n",
       "      <td>0.678238</td>\n",
       "    </tr>\n",
       "    <tr>\n",
       "      <th>2984</th>\n",
       "      <td>4447</td>\n",
       "      <td>0</td>\n",
       "      <td>0</td>\n",
       "      <td>0.936461</td>\n",
       "      <td>0.063539</td>\n",
       "    </tr>\n",
       "    <tr>\n",
       "      <th>2985</th>\n",
       "      <td>3822</td>\n",
       "      <td>0</td>\n",
       "      <td>0</td>\n",
       "      <td>0.517663</td>\n",
       "      <td>0.482337</td>\n",
       "    </tr>\n",
       "    <tr>\n",
       "      <th>2986</th>\n",
       "      <td>4819</td>\n",
       "      <td>0</td>\n",
       "      <td>0</td>\n",
       "      <td>0.906210</td>\n",
       "      <td>0.093790</td>\n",
       "    </tr>\n",
       "    <tr>\n",
       "      <th>2987</th>\n",
       "      <td>1496</td>\n",
       "      <td>1</td>\n",
       "      <td>1</td>\n",
       "      <td>0.311050</td>\n",
       "      <td>0.688950</td>\n",
       "    </tr>\n",
       "    <tr>\n",
       "      <th>2988</th>\n",
       "      <td>1047</td>\n",
       "      <td>1</td>\n",
       "      <td>0</td>\n",
       "      <td>0.835418</td>\n",
       "      <td>0.164582</td>\n",
       "    </tr>\n",
       "    <tr>\n",
       "      <th>2989</th>\n",
       "      <td>11617</td>\n",
       "      <td>0</td>\n",
       "      <td>0</td>\n",
       "      <td>0.853551</td>\n",
       "      <td>0.146449</td>\n",
       "    </tr>\n",
       "    <tr>\n",
       "      <th>2990</th>\n",
       "      <td>8719</td>\n",
       "      <td>0</td>\n",
       "      <td>0</td>\n",
       "      <td>0.898829</td>\n",
       "      <td>0.101171</td>\n",
       "    </tr>\n",
       "    <tr>\n",
       "      <th>2991</th>\n",
       "      <td>856</td>\n",
       "      <td>1</td>\n",
       "      <td>1</td>\n",
       "      <td>0.367099</td>\n",
       "      <td>0.632901</td>\n",
       "    </tr>\n",
       "    <tr>\n",
       "      <th>2992</th>\n",
       "      <td>9822</td>\n",
       "      <td>0</td>\n",
       "      <td>0</td>\n",
       "      <td>0.962021</td>\n",
       "      <td>0.037979</td>\n",
       "    </tr>\n",
       "    <tr>\n",
       "      <th>2993</th>\n",
       "      <td>3944</td>\n",
       "      <td>0</td>\n",
       "      <td>0</td>\n",
       "      <td>0.876343</td>\n",
       "      <td>0.123657</td>\n",
       "    </tr>\n",
       "    <tr>\n",
       "      <th>2994</th>\n",
       "      <td>8192</td>\n",
       "      <td>0</td>\n",
       "      <td>0</td>\n",
       "      <td>0.868903</td>\n",
       "      <td>0.131097</td>\n",
       "    </tr>\n",
       "    <tr>\n",
       "      <th>2995</th>\n",
       "      <td>3297</td>\n",
       "      <td>0</td>\n",
       "      <td>0</td>\n",
       "      <td>0.626451</td>\n",
       "      <td>0.373549</td>\n",
       "    </tr>\n",
       "    <tr>\n",
       "      <th>2996</th>\n",
       "      <td>14113</td>\n",
       "      <td>0</td>\n",
       "      <td>0</td>\n",
       "      <td>0.937999</td>\n",
       "      <td>0.062001</td>\n",
       "    </tr>\n",
       "    <tr>\n",
       "      <th>2997</th>\n",
       "      <td>5514</td>\n",
       "      <td>0</td>\n",
       "      <td>0</td>\n",
       "      <td>0.895042</td>\n",
       "      <td>0.104958</td>\n",
       "    </tr>\n",
       "    <tr>\n",
       "      <th>2998</th>\n",
       "      <td>9939</td>\n",
       "      <td>0</td>\n",
       "      <td>0</td>\n",
       "      <td>0.885438</td>\n",
       "      <td>0.114562</td>\n",
       "    </tr>\n",
       "    <tr>\n",
       "      <th>2999</th>\n",
       "      <td>14346</td>\n",
       "      <td>1</td>\n",
       "      <td>0</td>\n",
       "      <td>0.607086</td>\n",
       "      <td>0.392914</td>\n",
       "    </tr>\n",
       "  </tbody>\n",
       "</table>\n",
       "<p>3000 rows × 5 columns</p>\n",
       "</div>"
      ],
      "text/plain": [
       "      index  actual  predicted    Left_0    Left_1\n",
       "0      6723       0          0  0.972035  0.027965\n",
       "1      6473       0          0  0.917792  0.082208\n",
       "2      4679       0          0  0.770442  0.229558\n",
       "3       862       1          0  0.523038  0.476962\n",
       "4      7286       0          0  0.975843  0.024157\n",
       "5      8127       0          0  0.722851  0.277149\n",
       "6      3017       0          0  0.985596  0.014404\n",
       "7      3087       0          1  0.130254  0.869746\n",
       "8      6425       0          0  0.769714  0.230286\n",
       "9      2250       0          1  0.398617  0.601383\n",
       "10      542       1          0  0.849762  0.150238\n",
       "11     9293       0          0  0.976874  0.023126\n",
       "12    11723       0          0  0.544752  0.455248\n",
       "13     4923       0          0  0.837303  0.162697\n",
       "14    12070       1          0  0.751747  0.248253\n",
       "15    10602       0          0  0.650987  0.349013\n",
       "16    11874       0          0  0.946752  0.053248\n",
       "17    11118       0          0  0.814341  0.185659\n",
       "18    10778       0          0  0.967643  0.032357\n",
       "19     8054       0          0  0.866112  0.133888\n",
       "20     2312       0          0  0.600870  0.399130\n",
       "21    14768       1          0  0.525028  0.474972\n",
       "22     1889       1          1  0.228529  0.771471\n",
       "23     8990       0          0  0.962061  0.037939\n",
       "24      169       1          0  0.544231  0.455769\n",
       "25     1795       1          0  0.777867  0.222133\n",
       "26    14303       1          0  0.545401  0.454599\n",
       "27     3919       0          0  0.795449  0.204551\n",
       "28    14018       0          0  0.727450  0.272550\n",
       "29     3728       0          0  0.587278  0.412722\n",
       "...     ...     ...        ...       ...       ...\n",
       "2970  11562       0          0  0.765214  0.234786\n",
       "2971   8009       0          0  0.987319  0.012681\n",
       "2972  10076       0          0  0.962141  0.037859\n",
       "2973   9129       0          0  0.741299  0.258701\n",
       "2974   8091       0          0  0.832550  0.167450\n",
       "2975   6805       0          0  0.867960  0.132040\n",
       "2976  12174       1          0  0.595244  0.404756\n",
       "2977  13065       0          0  0.794503  0.205497\n",
       "2978   3784       0          0  0.779241  0.220759\n",
       "2979   8280       0          0  0.925971  0.074029\n",
       "2980   3577       0          0  0.813834  0.186166\n",
       "2981   5151       0          0  0.914110  0.085890\n",
       "2982   4984       0          0  0.918633  0.081367\n",
       "2983    420       1          1  0.321762  0.678238\n",
       "2984   4447       0          0  0.936461  0.063539\n",
       "2985   3822       0          0  0.517663  0.482337\n",
       "2986   4819       0          0  0.906210  0.093790\n",
       "2987   1496       1          1  0.311050  0.688950\n",
       "2988   1047       1          0  0.835418  0.164582\n",
       "2989  11617       0          0  0.853551  0.146449\n",
       "2990   8719       0          0  0.898829  0.101171\n",
       "2991    856       1          1  0.367099  0.632901\n",
       "2992   9822       0          0  0.962021  0.037979\n",
       "2993   3944       0          0  0.876343  0.123657\n",
       "2994   8192       0          0  0.868903  0.131097\n",
       "2995   3297       0          0  0.626451  0.373549\n",
       "2996  14113       0          0  0.937999  0.062001\n",
       "2997   5514       0          0  0.895042  0.104958\n",
       "2998   9939       0          0  0.885438  0.114562\n",
       "2999  14346       1          0  0.607086  0.392914\n",
       "\n",
       "[3000 rows x 5 columns]"
      ]
     },
     "execution_count": 58,
     "metadata": {},
     "output_type": "execute_result"
    }
   ],
   "source": [
    "hr_test_pred"
   ]
  },
  {
   "cell_type": "code",
   "execution_count": 59,
   "metadata": {},
   "outputs": [
    {
     "data": {
      "text/plain": [
       "0.81"
      ]
     },
     "execution_count": 59,
     "metadata": {},
     "output_type": "execute_result"
    }
   ],
   "source": [
    "auc_score = metrics.roc_auc_score( hr_test_pred.actual, hr_test_pred.Left_1  )\n",
    "round( float( auc_score ), 2 )"
   ]
  },
  {
   "cell_type": "code",
   "execution_count": 60,
   "metadata": {},
   "outputs": [
    {
     "name": "stderr",
     "output_type": "stream",
     "text": [
      "/Users/sb/anaconda3/lib/python3.6/site-packages/matplotlib/axes/_axes.py:6462: UserWarning: The 'normed' kwarg is deprecated, and has been replaced by the 'density' kwarg.\n",
      "  warnings.warn(\"The 'normed' kwarg is deprecated, and has been \"\n",
      "/Users/sb/anaconda3/lib/python3.6/site-packages/matplotlib/axes/_axes.py:6462: UserWarning: The 'normed' kwarg is deprecated, and has been replaced by the 'density' kwarg.\n",
      "  warnings.warn(\"The 'normed' kwarg is deprecated, and has been \"\n"
     ]
    },
    {
     "data": {
      "text/plain": [
       "<matplotlib.axes._subplots.AxesSubplot at 0x1a25bd6240>"
      ]
     },
     "execution_count": 60,
     "metadata": {},
     "output_type": "execute_result"
    },
    {
     "data": {
      "image/png": "[encoded data removed]",
      "text/plain": [
       "<Figure size 432x288 with 1 Axes>"
      ]
     },
     "metadata": {},
     "output_type": "display_data"
    }
   ],
   "source": [
    "sn.distplot( hr_test_pred[hr_test_pred.actual == 1][\"Left_1\"], color = 'b' )\n",
    "sn.distplot( hr_test_pred[hr_test_pred.actual == 0][\"Left_1\"], color = 'g' )"
   ]
  },
  {
   "cell_type": "code",
   "execution_count": 61,
   "metadata": {},
   "outputs": [
    {
     "data": {
      "image/png": "[encoded data removed]",
      "text/plain": [
       "<Figure size 432x288 with 1 Axes>"
      ]
     },
     "metadata": {},
     "output_type": "display_data"
    }
   ],
   "source": [
    "# Finding the optimal cutoff probability\n",
    "fpr, tpr, thresholds = metrics.roc_curve( hr_test_pred.actual,\n",
    "                                     hr_test_pred.Left_1,\n",
    "                                     drop_intermediate = False )\n",
    "\n",
    "plt.figure(figsize=(6, 4))\n",
    "plt.plot( fpr, tpr, label='ROC curve (area = %0.2f)' % auc_score )\n",
    "plt.plot([0, 1], [0, 1], 'k--')\n",
    "plt.xlim([0.0, 1.0])\n",
    "plt.ylim([0.0, 1.05])\n",
    "plt.xlabel('False Positive Rate or [1 - True Negative Rate]')\n",
    "plt.ylabel('True Positive Rate')\n",
    "plt.title('Receiver operating characteristic example')\n",
    "plt.legend(loc=\"lower right\")\n",
    "plt.show()"
   ]
  },
  {
   "cell_type": "code",
   "execution_count": 63,
   "metadata": {},
   "outputs": [
    {
     "name": "stdout",
     "output_type": "stream",
     "text": [
      "[1.91905401 0.91905401 0.90057484 0.88605895 0.88001362 0.87933851\n",
      " 0.872333   0.86974563 0.86193267 0.85880292]\n",
      "[0.         0.00087184 0.00130776 0.00174368 0.0021796  0.00261552\n",
      " 0.00305144 0.00348736 0.00392328 0.0043592 ]\n",
      "[0. 0. 0. 0. 0. 0. 0. 0. 0. 0.]\n"
     ]
    }
   ],
   "source": [
    "print (thresholds[0:10])\n",
    "print (fpr[0:10])\n",
    "print (tpr[0:10])"
   ]
  },
  {
   "cell_type": "code",
   "execution_count": 67,
   "metadata": {},
   "outputs": [],
   "source": [
    "cutoff_prob = thresholds[(np.abs(tpr - 0.7)).argmin()]\n",
    "#tpr[(np.abs(tpr - 0.7)).argmin()]"
   ]
  },
  {
   "cell_type": "code",
   "execution_count": 69,
   "metadata": {},
   "outputs": [
    {
     "data": {
      "text/plain": [
       "0.28"
      ]
     },
     "execution_count": 69,
     "metadata": {},
     "output_type": "execute_result"
    }
   ],
   "source": [
    "round( float( cutoff_prob ), 2 )"
   ]
  },
  {
   "cell_type": "code",
   "execution_count": 70,
   "metadata": {},
   "outputs": [],
   "source": [
    "#Predicting with new cut-off probability\n",
    "hr_test_pred['new_labels'] = hr_test_pred['Left_1'].map( lambda x: 1 if x >= 0.28 else 0 )"
   ]
  },
  {
   "cell_type": "code",
   "execution_count": 71,
   "metadata": {},
   "outputs": [
    {
     "data": {
      "text/html": [
       "<div>\n",
       "<style scoped>\n",
       "    .dataframe tbody tr th:only-of-type {\n",
       "        vertical-align: middle;\n",
       "    }\n",
       "\n",
       "    .dataframe tbody tr th {\n",
       "        vertical-align: top;\n",
       "    }\n",
       "\n",
       "    .dataframe thead th {\n",
       "        text-align: right;\n",
       "    }\n",
       "</style>\n",
       "<table border=\"1\" class=\"dataframe\">\n",
       "  <thead>\n",
       "    <tr style=\"text-align: right;\">\n",
       "      <th></th>\n",
       "      <th>index</th>\n",
       "      <th>actual</th>\n",
       "      <th>predicted</th>\n",
       "      <th>Left_0</th>\n",
       "      <th>Left_1</th>\n",
       "      <th>new_labels</th>\n",
       "    </tr>\n",
       "  </thead>\n",
       "  <tbody>\n",
       "    <tr>\n",
       "      <th>0</th>\n",
       "      <td>6723</td>\n",
       "      <td>0</td>\n",
       "      <td>0</td>\n",
       "      <td>0.972035</td>\n",
       "      <td>0.027965</td>\n",
       "      <td>0</td>\n",
       "    </tr>\n",
       "    <tr>\n",
       "      <th>1</th>\n",
       "      <td>6473</td>\n",
       "      <td>0</td>\n",
       "      <td>0</td>\n",
       "      <td>0.917792</td>\n",
       "      <td>0.082208</td>\n",
       "      <td>0</td>\n",
       "    </tr>\n",
       "    <tr>\n",
       "      <th>2</th>\n",
       "      <td>4679</td>\n",
       "      <td>0</td>\n",
       "      <td>0</td>\n",
       "      <td>0.770442</td>\n",
       "      <td>0.229558</td>\n",
       "      <td>0</td>\n",
       "    </tr>\n",
       "    <tr>\n",
       "      <th>3</th>\n",
       "      <td>862</td>\n",
       "      <td>1</td>\n",
       "      <td>0</td>\n",
       "      <td>0.523038</td>\n",
       "      <td>0.476962</td>\n",
       "      <td>1</td>\n",
       "    </tr>\n",
       "    <tr>\n",
       "      <th>4</th>\n",
       "      <td>7286</td>\n",
       "      <td>0</td>\n",
       "      <td>0</td>\n",
       "      <td>0.975843</td>\n",
       "      <td>0.024157</td>\n",
       "      <td>0</td>\n",
       "    </tr>\n",
       "    <tr>\n",
       "      <th>5</th>\n",
       "      <td>8127</td>\n",
       "      <td>0</td>\n",
       "      <td>0</td>\n",
       "      <td>0.722851</td>\n",
       "      <td>0.277149</td>\n",
       "      <td>0</td>\n",
       "    </tr>\n",
       "    <tr>\n",
       "      <th>6</th>\n",
       "      <td>3017</td>\n",
       "      <td>0</td>\n",
       "      <td>0</td>\n",
       "      <td>0.985596</td>\n",
       "      <td>0.014404</td>\n",
       "      <td>0</td>\n",
       "    </tr>\n",
       "    <tr>\n",
       "      <th>7</th>\n",
       "      <td>3087</td>\n",
       "      <td>0</td>\n",
       "      <td>1</td>\n",
       "      <td>0.130254</td>\n",
       "      <td>0.869746</td>\n",
       "      <td>1</td>\n",
       "    </tr>\n",
       "    <tr>\n",
       "      <th>8</th>\n",
       "      <td>6425</td>\n",
       "      <td>0</td>\n",
       "      <td>0</td>\n",
       "      <td>0.769714</td>\n",
       "      <td>0.230286</td>\n",
       "      <td>0</td>\n",
       "    </tr>\n",
       "    <tr>\n",
       "      <th>9</th>\n",
       "      <td>2250</td>\n",
       "      <td>0</td>\n",
       "      <td>1</td>\n",
       "      <td>0.398617</td>\n",
       "      <td>0.601383</td>\n",
       "      <td>1</td>\n",
       "    </tr>\n",
       "  </tbody>\n",
       "</table>\n",
       "</div>"
      ],
      "text/plain": [
       "   index  actual  predicted    Left_0    Left_1  new_labels\n",
       "0   6723       0          0  0.972035  0.027965           0\n",
       "1   6473       0          0  0.917792  0.082208           0\n",
       "2   4679       0          0  0.770442  0.229558           0\n",
       "3    862       1          0  0.523038  0.476962           1\n",
       "4   7286       0          0  0.975843  0.024157           0\n",
       "5   8127       0          0  0.722851  0.277149           0\n",
       "6   3017       0          0  0.985596  0.014404           0\n",
       "7   3087       0          1  0.130254  0.869746           1\n",
       "8   6425       0          0  0.769714  0.230286           0\n",
       "9   2250       0          1  0.398617  0.601383           1"
      ]
     },
     "execution_count": 71,
     "metadata": {},
     "output_type": "execute_result"
    }
   ],
   "source": [
    "hr_test_pred[0:10]"
   ]
  },
  {
   "cell_type": "code",
   "execution_count": 73,
   "metadata": {},
   "outputs": [
    {
     "data": {
      "text/plain": [
       "Text(0.5,15,'Predicted label')"
      ]
     },
     "execution_count": 73,
     "metadata": {},
     "output_type": "execute_result"
    },
    {
     "data": {
      "image/png": "[encoded data removed]",
      "text/plain": [
       "<Figure size 432x288 with 2 Axes>"
      ]
     },
     "metadata": {},
     "output_type": "display_data"
    }
   ],
   "source": [
    "\n",
    "cm = metrics.confusion_matrix( hr_test_pred.actual,\n",
    "                          hr_test_pred.new_labels, [1,0] )\n",
    "sn.heatmap(cm, annot=True,  fmt='.2f', xticklabels = [\"Left\", \"No Left\"] , yticklabels = [\"Left\", \"No Left\"] )\n",
    "plt.ylabel('True label')\n",
    "plt.xlabel('Predicted label')"
   ]
  },
  {
   "cell_type": "code",
   "execution_count": 74,
   "metadata": {},
   "outputs": [
    {
     "data": {
      "text/plain": [
       "0.77"
      ]
     },
     "execution_count": 74,
     "metadata": {},
     "output_type": "execute_result"
    }
   ],
   "source": [
    "score = metrics.accuracy_score( hr_test_pred.actual, hr_test_pred.new_labels )\n",
    "round( float(score), 2 )"
   ]
  },
  {
   "cell_type": "code",
   "execution_count": null,
   "metadata": {},
   "outputs": [],
   "source": []
  }
 ],
 "metadata": {
  "kernelspec": {
   "display_name": "Python 3",
   "language": "python",
   "name": "python3"
  },
  "language_info": {
   "codemirror_mode": {
    "name": "ipython",
    "version": 3
   },
   "file_extension": ".py",
   "mimetype": "text/x-python",
   "name": "python",
   "nbconvert_exporter": "python",
   "pygments_lexer": "ipython3",
   "version": "3.7.3"
  }
 },
 "nbformat": 4,
 "nbformat_minor": 1
}
